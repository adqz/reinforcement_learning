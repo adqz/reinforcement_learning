{
 "cells": [
  {
   "cell_type": "code",
   "execution_count": 1,
   "metadata": {},
   "outputs": [],
   "source": [
    "import numpy as np\n",
    "import matplotlib.pyplot as plt\n",
    "from matplotlib.pylab import subplots\n",
    "from racecar.SDRaceCar import SDRaceCar\n",
    "\n",
    "np.set_printoptions(precision=4, suppress=True)"
   ]
  },
  {
   "cell_type": "code",
   "execution_count": 22,
   "metadata": {},
   "outputs": [],
   "source": [
    "def getObservation():\n",
    "    '''\n",
    "    Returns observations from env\n",
    "    :rtype: [x, y, theta], [x_dot, y_dot, theta_dot], h\n",
    "    '''\n",
    "    obs = env.get_observation()\n",
    "    return obs[0:3], obs[3:6], obs[6]\n",
    "\n",
    "def mapToRange(t, fromRange, toRange):\n",
    "    '''\n",
    "    Maps input t from range [a,b] to [c,d]\n",
    "    '''\n",
    "    assert isinstance(fromRange, tuple) and len(fromRange) == 2\n",
    "    assert isinstance(toRange, tuple) and len(toRange) == 2\n",
    "    assert isinstance(t, (int, float))\n",
    "    \n",
    "    a, b = fromRange\n",
    "    c, d = toRange\n",
    "    f_t = c + ((d-c)/(b-a))*(t-a)\n",
    "    \n",
    "    # Clipping if f_t exceeds range [c, d]\n",
    "    if f_t < c: f_t = c\n",
    "    if f_t > d: f_t = d\n",
    "    \n",
    "    return f_t\n",
    "\n",
    "def getAction(Kp, Kd, verbose=False):\n",
    "    '''\n",
    "    Calculate required thrust and wheel angle to navigate car\n",
    "    :rtype: np.array of size (2,)\n",
    "    '''\n",
    "    pos, vel, h = getObservation()\n",
    "    x_desired, y_desired = h[0], h[1]\n",
    "    x, y, theta = pos[0], pos[1], pos[2]\n",
    "    vx, vy = vel[0], vel[1]\n",
    "    delta_x, delta_y = x_desired - x, y_desired - y\n",
    "    sx, sy = np.sign(delta_x), np.sign(delta_y)\n",
    "    \n",
    "    # Calculated values\n",
    "    theta_desired = np.arctan2(delta_x, delta_y)\n",
    "    gamma = theta_desired - theta\n",
    "    # Velocity\n",
    "    v_desired = np.sqrt( (delta_x**2 + delta_y**2)/np.cos(gamma)**2 )\n",
    "    v_actual = np.sqrt(vx**2 + vy**2)\n",
    "    \n",
    "    # Wrap around\n",
    "    if gamma <= -np.pi: #add pi until it falls into range\n",
    "        while not(-np.pi <= gamma <= np.pi): #add 2pi until falls into range\n",
    "            gamma += 2*np.pi\n",
    "    elif gamma >= np.pi: \n",
    "        while not(-np.pi <= gamma <= np.pi): #subtract 2pi until falls into range\n",
    "            gamma -= 2*np.pi\n",
    "    \n",
    "    #Control\n",
    "    thrust = (Kp * np.sqrt((delta_x**2 + delta_y**2))) + (Kd * (v_desired - v_actual))\n",
    "    thrust_normalized = mapToRange(thrust, (0,20), (-1,1))\n",
    "    angle = mapToRange(gamma, (-np.pi, np.pi), (-1,1))\n",
    "    \n",
    "    if verbose:\n",
    "        print('theta = ', theta*(180/np.pi))\n",
    "#         print('x, y,  delta_x, delta_y, angle = ', np.sign(delta_x), np.sign(delta_y), delta_x, delta_y, angle*(180.0/np.pi))\n",
    "    \n",
    "    return np.array([angle, thrust_normalized]) #size (2,)"
   ]
  },
  {
   "cell_type": "code",
   "execution_count": 23,
   "metadata": {
    "scrolled": false
   },
   "outputs": [
    {
     "name": "stdout",
     "output_type": "stream",
     "text": [
      "Steps taken = 50\n"
     ]
    },
    {
     "data": {
      "image/png": "[encoded data removed]",
      "text/plain": [
       "<Figure size 792x648 with 1 Axes>"
      ]
     },
     "metadata": {
      "needs_background": "light"
     },
     "output_type": "display_data"
    }
   ],
   "source": [
    "tracks = ['Linear', 'Circle', 'FigureEight']\n",
    "env = SDRaceCar(render_env=False, track=tracks[0])\n",
    "state = env.reset()\n",
    "previous_ind = 0\n",
    "steps = 0\n",
    "done = False\n",
    "\n",
    "plot_track = True\n",
    "env.x, env.y = state[-1]\n",
    "actual_traj, desired_traj = [state[-1]], [state[-1]]\n",
    "while not done:\n",
    "    action = getAction(Kp = 0.1, Kd = 0.0, verbose=False)\n",
    "    obs,r,done = env.step(action)\n",
    "    steps +=1\n",
    "    current_ind = env.closest_track_ind\n",
    "    # CONDITION TO CHECK lap-completion\n",
    "    if current_ind - previous_ind<=-500:\n",
    "        done = True\n",
    "    previous_ind = current_ind\n",
    "    actual_traj.append([obs[0], obs[1]])\n",
    "    desired_traj.append(list(obs[6]))\n",
    "\n",
    "print('Steps taken = {0}'.format(steps))\n",
    "    \n",
    "if plot_track:\n",
    "    fig, ax = subplots(figsize=(11, 9))\n",
    "    desired_traj, actual_traj = np.array(desired_traj), np.array(actual_traj)\n",
    "    ax.plot(desired_traj[:,0], desired_traj[:,1], 'or--')\n",
    "    ax.plot(actual_traj[:,0], actual_traj[:,1], '*-b')\n",
    "    ax.legend(('desired','actual'),loc='best')\n",
    "    \n",
    "# Kp = 1.15, Kd = 0.5 - works for eight\n",
    "# Kp = 0.8, Kd = 0.1 - works for circle\n",
    "\n",
    "# Kp = 1.25, Kd = 0.5 - works for both\n",
    "# Kp = 1.05, Kd = 0.33 - works for both"
   ]
  },
  {
   "cell_type": "code",
   "execution_count": null,
   "metadata": {},
   "outputs": [],
   "source": []
  },
  {
   "cell_type": "code",
   "execution_count": null,
   "metadata": {},
   "outputs": [],
   "source": []
  }
 ],
 "metadata": {
  "kernelspec": {
   "display_name": "ece276c_venv",
   "language": "python",
   "name": "ece276c_venv"
  },
  "language_info": {
   "codemirror_mode": {
    "name": "ipython",
    "version": 3
   },
   "file_extension": ".py",
   "mimetype": "text/x-python",
   "name": "python",
   "nbconvert_exporter": "python",
   "pygments_lexer": "ipython3",
   "version": "3.6.9"
  }
 },
 "nbformat": 4,
 "nbformat_minor": 2
}
