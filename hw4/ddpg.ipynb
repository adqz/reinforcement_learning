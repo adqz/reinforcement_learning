{
 "cells": [
  {
   "cell_type": "code",
   "execution_count": 1,
   "metadata": {},
   "outputs": [],
   "source": [
    "import numpy as np\n",
    "import time\n",
    "import copy\n",
    "\n",
    "import torch\n",
    "import torch.nn as nn\n",
    "import torch.optim as optim\n",
    "from torch.distributions.multivariate_normal import MultivariateNormal\n",
    "\n",
    "import gym\n",
    "import pybullet\n",
    "import pybulletgym.envs\n",
    "\n",
    "from collections import deque\n",
    "from operator import itemgetter\n",
    "from statistics import mean\n",
    "from tqdm import tqdm\n",
    "\n",
    "import matplotlib.pyplot as plt\n",
    "\n",
    "def weighSync(target_model, source_model, tau=0.001):\n",
    "    ''' A function to soft update target networks '''\n",
    "    assert isinstance(tau, float) and tau>0\n",
    "\n",
    "    for param_target, param_source in zip(target_model.parameters(), source_model.parameters()):\n",
    "        # Wrap in torch.no_grad() because weights have requires_grad=True, \n",
    "        # but we don't need to track this in autograd\n",
    "        with torch.no_grad():\n",
    "            param_target = tau*param_source + (1-tau)*param_target\n",
    "    \n",
    "    return target_model, source_model\n",
    "\n",
    "\n",
    "class Replay():\n",
    "    def __init__(self, buffer_size, init_length, state_dim, action_dim, env):\n",
    "        \"\"\"\n",
    "        A function to initialize the replay buffer.\n",
    "\n",
    "        param: init_length : Initial number of transitions to collect\n",
    "        param: state_dim : Size of the state space\n",
    "        param: action_dim : Size of the action space\n",
    "        param: env : gym environment object\n",
    "        \"\"\"\n",
    "        assert isinstance(buffer_size, int) and buffer_size>0\n",
    "        assert isinstance(init_length, int) and init_length>0\n",
    "        assert isinstance(state_dim, int) and state_dim>0\n",
    "        assert isinstance(action_dim, int) and action_dim>0\n",
    "        \n",
    "        self.buffer_size = buffer_size\n",
    "        self.state_dim = state_dim\n",
    "        self.action_dim = action_dim\n",
    "        \n",
    "        self.buffer = deque() #list like object for which removing elements from left is faster\n",
    "        \n",
    "        s = env.reset()\n",
    "        for i in range(init_length):\n",
    "            a = env.action_space.sample()\n",
    "            s_prime, r, done, _ = env.step(a)\n",
    "            self.buffer.append({\n",
    "                's': s,\n",
    "                'a': a,\n",
    "                'r': r,\n",
    "                's_prime': s_prime\n",
    "            })\n",
    "    \n",
    "    def __len__(self):\n",
    "        ''' Return number of elements in buffer'''\n",
    "        return len(self.buffer)\n",
    "\n",
    "    def buffer_add(self, exp):\n",
    "        \"\"\"\n",
    "        A function to add a dictionary to the buffer\n",
    "        param: exp : A dictionary consisting of state, action, reward , next state and done flag\n",
    "        \"\"\"\n",
    "        assert isinstance(exp, dict) and len(exp) == 4\n",
    "        assert len(self.buffer) <= self.buffer_size, 'Buffer size exceeded. You fucked up'\n",
    "        \n",
    "        if len(self.buffer) < self.buffer_size:\n",
    "            self.buffer.append(exp)\n",
    "        else:\n",
    "            self.buffer.popleft() #removing the 1st element (left most element)\n",
    "            self.buffer.append(exp)\n",
    "\n",
    "    def buffer_sample(self, N):\n",
    "        \"\"\"\n",
    "        A function to sample N points from the buffer\n",
    "        param: N : Number of samples to obtain from the buffer\n",
    "        \"\"\"\n",
    "        assert isinstance(N, int) and N>0\n",
    "        indices = list(np.random.randint(low=0, high=len(self.buffer), size=N, dtype='int'))\n",
    "        sample = itemgetter(*indices)(self.buffer) #extarct values at indices from buffer\n",
    "        \n",
    "        return sample\n",
    "\n",
    "\n",
    "class Actor(nn.Module):\n",
    "    #TODO: Complete the function\n",
    "    def __init__(self, state_dim, action_dim):\n",
    "        \"\"\"\n",
    "        Initialize the network\n",
    "        param: state_dim : Size of the state space\n",
    "        param: action_dim: Size of the action space\n",
    "        \"\"\"\n",
    "        assert isinstance(state_dim, int) and state_dim>0\n",
    "        assert isinstance(action_dim, int) and action_dim>0\n",
    "        \n",
    "        super(Actor, self).__init__()\n",
    "        self.state_dim = state_dim\n",
    "        self.action_dim = action_dim\n",
    "        \n",
    "        # NN layers and activations\n",
    "        self.fc1 = nn.Linear(state_dim, 400)\n",
    "        self.hidden1 = nn.Linear(400, 300)\n",
    "        self.fc2 = nn.Linear(300, action_dim)\n",
    "        self.tanh = nn.Tanh()\n",
    "        self.relu = nn.ReLU()\n",
    "\n",
    "    def forward(self, state):\n",
    "        \"\"\"\n",
    "        Define the forward pass\n",
    "        param: state: The state of the environment\n",
    "        \"\"\"\n",
    "#         assert isinstance(state, torch.Tensor)\n",
    "        assert state.shape == (self.state_dim, ), 'state must be 1D and of size (%d,)'%self.state_dim\n",
    "        \n",
    "        if not(isinstance(state, torch.Tensor)):\n",
    "            state = torch.from_numpy(state).float()\n",
    "        \n",
    "        x = state\n",
    "        x = self.relu(self.fc1(x))\n",
    "        x = self.relu(self.hidden1(x))\n",
    "        x = self.tanh(self.fc2(x))\n",
    "\n",
    "        return x\n",
    "    \n",
    "    def getAction(self, state, add_noise_flag = False, noise = 0.1):\n",
    "        '''\n",
    "        Returns an action by doing a forward pass. If add_noise_flag is True, \n",
    "        action is sampled from a multivariate Normal distributio with stddev = noise and mean = output of net\n",
    "        \n",
    "        :rtype: np.ndarray\n",
    "        '''\n",
    "#         print('type(state), shape = ',type(state), state.shape)\n",
    "#         print('self.state_dim = ', self.state_dim)\n",
    "        assert isinstance(state, np.ndarray)\n",
    "        assert state.shape == (self.state_dim, )\n",
    "        assert isinstance(noise, (int, float)) and noise >=0\n",
    "        assert isinstance(add_noise_flag, bool)\n",
    "        \n",
    "        state = torch.from_numpy(state).float()\n",
    "        action = self.forward(state) #forward pass\n",
    "        \n",
    "        if add_noise_flag:\n",
    "            # Sampling from the nD Gaussian\n",
    "            m = MultivariateNormal(action, torch.eye(self.action_dim)*noise)\n",
    "            action = m.sample()\n",
    "        \n",
    "        return action.detach().squeeze().numpy()\n",
    "\n",
    "\n",
    "class Critic(nn.Module):\n",
    "    def __init__(self, state_dim, action_dim):\n",
    "        \"\"\"\n",
    "        Initialize the critic\n",
    "        param: state_dim : Size of the state space\n",
    "        param: action_dim : Size of the action space\n",
    "        \"\"\"\n",
    "        assert isinstance(state_dim, int) and state_dim>0\n",
    "        assert isinstance(action_dim, int) and action_dim>0\n",
    "        \n",
    "        super(Critic, self).__init__()\n",
    "        self.state_dim = state_dim\n",
    "        self.action_dim = action_dim\n",
    "        \n",
    "        # NN layers and activations\n",
    "        self.fc1 = nn.Linear(state_dim + action_dim, 400)\n",
    "        self.hidden1 = nn.Linear(400, 300)\n",
    "        self.fc2 = nn.Linear(300, 1)\n",
    "        self.relu = nn.ReLU()\n",
    "\n",
    "    def forward(self, state, action):\n",
    "        \"\"\" Define the forward pass of the critic \"\"\"\n",
    "        assert isinstance(state, np.ndarray)\n",
    "        assert isinstance(action, np.ndarray)\n",
    "        assert state.shape == (self.state_dim, ), 'state must be 1D and of size (%d,)'%self.state_dim\n",
    "        assert action.shape == (self.action_dim, ), 'action must be 1D and of size (%d,)'%self.action_dim\n",
    "        \n",
    "        state, action = torch.from_numpy(state).float(), torch.from_numpy(action).float() #numpy to torch tensor\n",
    "        x = torch.cat((state, action), dim=0) #concatenating to form input\n",
    "        x = self.relu(self.fc1(x))\n",
    "        x = self.relu(self.hidden1(x))\n",
    "        x = self.fc2(x)\n",
    "        \n",
    "        return x\n",
    "\n",
    "\n",
    "class DDPG():\n",
    "    def __init__(\n",
    "            self,\n",
    "            env,\n",
    "            test_env,\n",
    "            state_dim,    \n",
    "            action_dim,\n",
    "            critic_lr=3e-4,\n",
    "            actor_lr=3e-4,\n",
    "            gamma=0.99,\n",
    "            batch_size=100,\n",
    "            ev_n_steps=100,\n",
    "            verbose=False\n",
    "    ):\n",
    "        \"\"\"\n",
    "        Implementing DPPG algorithm from paper - Continuous control with deep reinforcement learning\n",
    "        link - https://arxiv.org/pdf/1509.02971.pdf\n",
    "        \n",
    "        param: env: An gym environment\n",
    "        param: action_dim: Size of action space\n",
    "        param: state_dim: Size of state space\n",
    "        param: critic_lr: Learning rate of the critic\n",
    "        param: actor_lr: Learning rate of the actor\n",
    "        param: gamma: The discount factor\n",
    "        param: batch_size: The batch size for training\n",
    "        \"\"\"\n",
    "\n",
    "        assert isinstance(state_dim, int) and state_dim>0\n",
    "        assert isinstance(action_dim, int) and action_dim>0\n",
    "        assert isinstance(batch_size, int) and batch_size>0\n",
    "        assert isinstance(critic_lr, (int, float)) and critic_lr>0\n",
    "        assert isinstance(actor_lr, (int, float)) and actor_lr>0\n",
    "        assert isinstance(gamma, (int, float)) and gamma>0\n",
    "        assert isinstance(ev_n_steps, (int, float)) and ev_n_steps>0\n",
    "\n",
    "        self.gamma = gamma\n",
    "        self.batch_size = batch_size\n",
    "        self.ev_n_steps = ev_n_steps\n",
    "        self.env = env\n",
    "        self.test_env = test_env\n",
    "        self.num_episodes = 0\n",
    "        self.avg_rewards = []\n",
    "        self.obj_actor = []\n",
    "        self.loss_critic = []\n",
    "\n",
    "        # Create a actor and actor_target with same initial weights\n",
    "        self.actor = Actor(state_dim, action_dim)\n",
    "        self.actor = self.init_weights(self.actor) #initialize weights according to paper\n",
    "        self.actor_target = copy.deepcopy(self.actor) #both networks have the same initial weights \n",
    "\n",
    "        # Create a critic and critic_target with same initial weights\n",
    "        self.critic = Critic(state_dim, action_dim)\n",
    "        self.critic = self.init_weights(self.critic) #initialize weights according to paper\n",
    "        self.critic_target = copy.deepcopy(self.critic) #both networks have the same initial weights \n",
    "\n",
    "        # Define optimizer for actor and critic\n",
    "        self.optimizer_actor = optim.Adam(self.actor.parameters(), lr=actor_lr)\n",
    "        self.optimizer_critic = optim.Adam(self.critic.parameters(), lr=critic_lr)\n",
    "        self.loss_fn = nn.MSELoss(reduction='sum')\n",
    "\n",
    "        # Define a replay buffer\n",
    "        self.ReplayBuffer = Replay(10000, 1000, state_dim, action_dim, self.env)\n",
    "    \n",
    "    def init_weights(self, network):\n",
    "        '''\n",
    "        Initialize weights (as mentioned in paper) from a uniform distribution \n",
    "        based on the fan-in of the layer\n",
    "        \n",
    "        WARNING: Will only work if each layer is fully connected\n",
    "        '''\n",
    "        \n",
    "        for name, param in network.named_parameters():\n",
    "            if 'bias' in name: #if bias param, use f of the same layer\n",
    "                f = last_f\n",
    "            else:\n",
    "                f = param.shape[1] #picking 2nd dim = number of inputs for that layer\n",
    "                last_f = f\n",
    "            # Initialize weights by sampling from uniform dist.\n",
    "            assert isinstance(f, int) and f>0, 'fan in must be int and greater than 0'\n",
    "            nn.init.uniform_(param.data, a = -1/np.sqrt(f), b = 1/np.sqrt(f))\n",
    "#             nn.init.uniform_(param.data, a = 0.9999, b = 1)\n",
    "        \n",
    "        return network\n",
    "    \n",
    "    def save_actor(self, index):\n",
    "        ''' Saves the policy NN'''\n",
    "        filename = 'q1_policy_' + str(index) + '.pth.tar'\n",
    "        state = { 'state_dict': self.actor.state_dict(),\n",
    "                 'optimizer': self.optimizer_actor.state_dict() }\n",
    "        torch.save(state, filename)\n",
    "        \n",
    "    def save_critic(self, index):\n",
    "        ''' Saves the critic NN'''\n",
    "        filename = 'q1_critic_' + str(index) + '.pth.tar'\n",
    "        state = { 'state_dict': self.critic.state_dict(),\n",
    "                 'optimizer': self.optimizer_critic.state_dict() }\n",
    "        torch.save(state, filename)\n",
    "    \n",
    "    def update_target_networks(self):\n",
    "        \"\"\"\n",
    "        A function to update the target networks\n",
    "        \"\"\"\n",
    "        weighSync(self.actor_target, self.actor)\n",
    "        weighSync(self.critic_target, self.critic)\n",
    "\n",
    "    def update_network(self):\n",
    "        \"\"\"\n",
    "        A function to update the function just once\n",
    "        \"\"\"\n",
    "        pass\n",
    "    \n",
    "    def getAverageReward(self):\n",
    "        ''' Run the policy and return average reward '''\n",
    "        rewards = []\n",
    "        s = self.test_env.reset()\n",
    "        done = False\n",
    "        while not(done):\n",
    "            a = self.actor(s).detach().squeeze().numpy()\n",
    "            s, r, done, _ = self.test_env.step(a)\n",
    "            rewards.append(r)\n",
    "        \n",
    "        avg_reward = sum(rewards)\n",
    "        assert isinstance(avg_reward, (int, float))\n",
    "        \n",
    "        return avg_reward\n",
    "\n",
    "    def train(self, max_num_steps):\n",
    "        \"\"\"\n",
    "        Train the policy for the given number of iterations\n",
    "        :param num_steps:The number of steps to train the policy for\n",
    "        \"\"\"\n",
    "        assert isinstance(max_num_steps, int) and max_num_steps>0\n",
    "        \n",
    "        gamma = self.gamma\n",
    "        s = self.env.reset()\n",
    "        done = False\n",
    "        for num_steps in tqdm(range(max_num_steps)):\n",
    "            # Reset env when it reached terminal state\n",
    "            if done:\n",
    "                self.num_episodes += 1\n",
    "                s = self.env.reset()\n",
    "            \n",
    "            a = self.actor.getAction(s, add_noise_flag = True, noise = 0.1)\n",
    "            s_prime, r, done, _ = self.env.step(a)\n",
    "            \n",
    "            # Storing transition in buffer\n",
    "            self.ReplayBuffer.buffer_add({\n",
    "                's': s,\n",
    "                'a': a,\n",
    "                'r': r,\n",
    "                's_prime': s_prime\n",
    "            })\n",
    "            # Sampling N points from buffer\n",
    "            minibatch = self.ReplayBuffer.buffer_sample(N = self.batch_size)\n",
    "            \n",
    "            loss_critic = torch.tensor([0]).float()\n",
    "            obj_actor = torch.tensor([0]).float()\n",
    "            \n",
    "            # Operating on minibatch\n",
    "            for sample in minibatch:\n",
    "                s, a, r, s_prime = sample['s'], sample['a'], sample['r'], sample['s_prime']\n",
    "                # Calculating critic loss\n",
    "                a_target = self.actor_target.getAction(s_prime, add_noise_flag=False)\n",
    "                y_i = r + gamma*self.critic_target(s_prime, a_target)\n",
    "                loss_critic = self.loss_fn(self.critic(s,a), y_i) #mse loss\n",
    "                \n",
    "                # Calculating actor loss\n",
    "                a = self.actor.getAction(s_prime, add_noise_flag=False)\n",
    "                obj_actor += self.critic(s, a)\n",
    "            \n",
    "            # Zero gradients of optimizer\n",
    "            self.optimizer_critic.zero_grad()    \n",
    "            self.optimizer_actor.zero_grad()\n",
    "            # Update critic\n",
    "            loss_critic.backward()\n",
    "            self.optimizer_critic.step()\n",
    "            # Update actor\n",
    "            obj_actor /= -self.batch_size #multiplying with negative so it does gradient ascent\n",
    "            obj_actor.backward()\n",
    "            self.optimizer_actor.step()\n",
    "            # Update target networks\n",
    "            self.update_target_networks()\n",
    "            \n",
    "            # Store losses\n",
    "            self.obj_actor.append(obj_actor.item())\n",
    "            self.loss_critic.append(loss_critic.item())\n",
    "            \n",
    "            if num_steps%self.ev_n_steps == 0:\n",
    "                r = self.getAverageReward()\n",
    "                self.avg_rewards.append(r)\n",
    "                if verbose:\n",
    "                    print('Num steps: {0} \\t Avg Reward: {1:.3f} \\t Obj(Actor): {2:.3f} \\t Loss(Critic): {3:.3f}'\n",
    "                          .format(num_steps, r, obj_actor.item(), loss_critic.item()))\n",
    "                \n",
    "            "
   ]
  },
  {
   "cell_type": "code",
   "execution_count": 2,
   "metadata": {
    "scrolled": true
   },
   "outputs": [
    {
     "name": "stdout",
     "output_type": "stream",
     "text": [
      "current_dir=/Users/adnanshahpurwala/anaconda3/envs/ece276c_venv/lib/python3.6/site-packages/pybullet_envs/bullet\n",
      "options= \n"
     ]
    },
    {
     "name": "stderr",
     "output_type": "stream",
     "text": [
      "  0%|          | 2/100000 [00:00<5:23:37,  5.15it/s]"
     ]
    },
    {
     "name": "stdout",
     "output_type": "stream",
     "text": [
      "options= \n",
      "Num steps: 0 \t Avg Reward: -27.571 \t Obj(Actor): -0.065 \t Loss(Critic): 0.035\n"
     ]
    },
    {
     "name": "stderr",
     "output_type": "stream",
     "text": [
      "  0%|          | 202/100000 [00:25<3:53:58,  7.11it/s]"
     ]
    },
    {
     "name": "stdout",
     "output_type": "stream",
     "text": [
      "Num steps: 200 \t Avg Reward: -22.056 \t Obj(Actor): -0.572 \t Loss(Critic): 0.106\n"
     ]
    },
    {
     "name": "stderr",
     "output_type": "stream",
     "text": [
      "  0%|          | 402/100000 [00:50<3:49:34,  7.23it/s]"
     ]
    },
    {
     "name": "stdout",
     "output_type": "stream",
     "text": [
      "Num steps: 400 \t Avg Reward: -25.079 \t Obj(Actor): -0.912 \t Loss(Critic): 5.249\n"
     ]
    },
    {
     "name": "stderr",
     "output_type": "stream",
     "text": [
      "  1%|          | 602/100000 [01:14<3:41:29,  7.48it/s]"
     ]
    },
    {
     "name": "stdout",
     "output_type": "stream",
     "text": [
      "Num steps: 600 \t Avg Reward: -28.244 \t Obj(Actor): -0.859 \t Loss(Critic): 0.781\n"
     ]
    },
    {
     "name": "stderr",
     "output_type": "stream",
     "text": [
      "  1%|          | 802/100000 [01:39<3:51:35,  7.14it/s]"
     ]
    },
    {
     "name": "stdout",
     "output_type": "stream",
     "text": [
      "Num steps: 800 \t Avg Reward: -18.077 \t Obj(Actor): -0.777 \t Loss(Critic): 0.254\n"
     ]
    },
    {
     "name": "stderr",
     "output_type": "stream",
     "text": [
      "  1%|          | 1002/100000 [02:04<3:32:44,  7.76it/s]"
     ]
    },
    {
     "name": "stdout",
     "output_type": "stream",
     "text": [
      "Num steps: 1000 \t Avg Reward: -0.008 \t Obj(Actor): -0.519 \t Loss(Critic): 0.017\n"
     ]
    },
    {
     "name": "stderr",
     "output_type": "stream",
     "text": [
      "  1%|          | 1202/100000 [02:29<3:40:30,  7.47it/s]"
     ]
    },
    {
     "name": "stdout",
     "output_type": "stream",
     "text": [
      "Num steps: 1200 \t Avg Reward: -13.178 \t Obj(Actor): -0.278 \t Loss(Critic): 0.008\n"
     ]
    },
    {
     "name": "stderr",
     "output_type": "stream",
     "text": [
      "  1%|▏         | 1402/100000 [02:54<3:47:28,  7.22it/s]"
     ]
    },
    {
     "name": "stdout",
     "output_type": "stream",
     "text": [
      "Num steps: 1400 \t Avg Reward: -18.664 \t Obj(Actor): -0.721 \t Loss(Critic): 1.755\n"
     ]
    },
    {
     "name": "stderr",
     "output_type": "stream",
     "text": [
      "  2%|▏         | 1602/100000 [03:20<3:51:38,  7.08it/s]"
     ]
    },
    {
     "name": "stdout",
     "output_type": "stream",
     "text": [
      "Num steps: 1600 \t Avg Reward: -24.634 \t Obj(Actor): -0.330 \t Loss(Critic): 0.153\n"
     ]
    },
    {
     "name": "stderr",
     "output_type": "stream",
     "text": [
      "  2%|▏         | 1802/100000 [03:45<3:50:47,  7.09it/s]"
     ]
    },
    {
     "name": "stdout",
     "output_type": "stream",
     "text": [
      "Num steps: 1800 \t Avg Reward: -14.191 \t Obj(Actor): -0.310 \t Loss(Critic): 0.201\n"
     ]
    },
    {
     "name": "stderr",
     "output_type": "stream",
     "text": [
      "  2%|▏         | 2002/100000 [04:11<3:52:22,  7.03it/s]"
     ]
    },
    {
     "name": "stdout",
     "output_type": "stream",
     "text": [
      "Num steps: 2000 \t Avg Reward: -11.559 \t Obj(Actor): -0.182 \t Loss(Critic): 0.100\n"
     ]
    },
    {
     "name": "stderr",
     "output_type": "stream",
     "text": [
      "  2%|▏         | 2202/100000 [04:36<3:53:17,  6.99it/s]"
     ]
    },
    {
     "name": "stdout",
     "output_type": "stream",
     "text": [
      "Num steps: 2200 \t Avg Reward: -28.026 \t Obj(Actor): 0.030 \t Loss(Critic): 1.795\n"
     ]
    },
    {
     "name": "stderr",
     "output_type": "stream",
     "text": [
      "  2%|▏         | 2402/100000 [05:02<3:50:41,  7.05it/s]"
     ]
    },
    {
     "name": "stdout",
     "output_type": "stream",
     "text": [
      "Num steps: 2400 \t Avg Reward: -24.219 \t Obj(Actor): -0.055 \t Loss(Critic): 0.069\n"
     ]
    },
    {
     "name": "stderr",
     "output_type": "stream",
     "text": [
      "  3%|▎         | 2602/100000 [05:27<3:43:41,  7.26it/s]"
     ]
    },
    {
     "name": "stdout",
     "output_type": "stream",
     "text": [
      "Num steps: 2600 \t Avg Reward: -23.626 \t Obj(Actor): -0.064 \t Loss(Critic): 0.090\n"
     ]
    },
    {
     "name": "stderr",
     "output_type": "stream",
     "text": [
      "  3%|▎         | 2802/100000 [05:52<3:44:18,  7.22it/s]"
     ]
    },
    {
     "name": "stdout",
     "output_type": "stream",
     "text": [
      "Num steps: 2800 \t Avg Reward: -25.947 \t Obj(Actor): -0.256 \t Loss(Critic): 0.377\n"
     ]
    },
    {
     "name": "stderr",
     "output_type": "stream",
     "text": [
      "  3%|▎         | 3002/100000 [06:17<3:44:25,  7.20it/s]"
     ]
    },
    {
     "name": "stdout",
     "output_type": "stream",
     "text": [
      "Num steps: 3000 \t Avg Reward: -22.577 \t Obj(Actor): -0.069 \t Loss(Critic): 0.102\n"
     ]
    },
    {
     "name": "stderr",
     "output_type": "stream",
     "text": [
      "  3%|▎         | 3202/100000 [06:43<3:33:07,  7.57it/s]"
     ]
    },
    {
     "name": "stdout",
     "output_type": "stream",
     "text": [
      "Num steps: 3200 \t Avg Reward: -14.195 \t Obj(Actor): -0.054 \t Loss(Critic): 0.092\n"
     ]
    },
    {
     "name": "stderr",
     "output_type": "stream",
     "text": [
      "  3%|▎         | 3402/100000 [07:08<3:31:30,  7.61it/s]"
     ]
    },
    {
     "name": "stdout",
     "output_type": "stream",
     "text": [
      "Num steps: 3400 \t Avg Reward: -13.559 \t Obj(Actor): 0.017 \t Loss(Critic): 0.036\n"
     ]
    },
    {
     "name": "stderr",
     "output_type": "stream",
     "text": [
      "  4%|▎         | 3602/100000 [07:34<3:44:59,  7.14it/s]"
     ]
    },
    {
     "name": "stdout",
     "output_type": "stream",
     "text": [
      "Num steps: 3600 \t Avg Reward: -25.575 \t Obj(Actor): -0.049 \t Loss(Critic): 0.006\n"
     ]
    },
    {
     "name": "stderr",
     "output_type": "stream",
     "text": [
      "  4%|▍         | 3802/100000 [07:59<3:47:10,  7.06it/s]"
     ]
    },
    {
     "name": "stdout",
     "output_type": "stream",
     "text": [
      "Num steps: 3800 \t Avg Reward: -24.256 \t Obj(Actor): -0.148 \t Loss(Critic): 29.117\n"
     ]
    },
    {
     "name": "stderr",
     "output_type": "stream",
     "text": [
      "  4%|▍         | 4002/100000 [08:25<3:45:30,  7.09it/s]"
     ]
    },
    {
     "name": "stdout",
     "output_type": "stream",
     "text": [
      "Num steps: 4000 \t Avg Reward: -13.688 \t Obj(Actor): -0.076 \t Loss(Critic): 0.012\n"
     ]
    },
    {
     "name": "stderr",
     "output_type": "stream",
     "text": [
      "  4%|▍         | 4202/100000 [08:50<3:41:21,  7.21it/s]"
     ]
    },
    {
     "name": "stdout",
     "output_type": "stream",
     "text": [
      "Num steps: 4200 \t Avg Reward: -20.245 \t Obj(Actor): -0.032 \t Loss(Critic): 0.039\n"
     ]
    },
    {
     "name": "stderr",
     "output_type": "stream",
     "text": [
      "  4%|▍         | 4402/100000 [09:16<3:43:40,  7.12it/s]"
     ]
    },
    {
     "name": "stdout",
     "output_type": "stream",
     "text": [
      "Num steps: 4400 \t Avg Reward: -22.076 \t Obj(Actor): -0.132 \t Loss(Critic): 0.026\n"
     ]
    },
    {
     "name": "stderr",
     "output_type": "stream",
     "text": [
      "  5%|▍         | 4602/100000 [09:41<3:45:59,  7.04it/s]"
     ]
    },
    {
     "name": "stdout",
     "output_type": "stream",
     "text": [
      "Num steps: 4600 \t Avg Reward: -26.505 \t Obj(Actor): -0.286 \t Loss(Critic): 0.060\n"
     ]
    },
    {
     "name": "stderr",
     "output_type": "stream",
     "text": [
      "  5%|▍         | 4802/100000 [10:07<3:46:57,  6.99it/s]"
     ]
    },
    {
     "name": "stdout",
     "output_type": "stream",
     "text": [
      "Num steps: 4800 \t Avg Reward: -21.688 \t Obj(Actor): -0.178 \t Loss(Critic): 1.382\n"
     ]
    },
    {
     "name": "stderr",
     "output_type": "stream",
     "text": [
      "  5%|▌         | 5002/100000 [10:32<3:45:05,  7.03it/s]"
     ]
    },
    {
     "name": "stdout",
     "output_type": "stream",
     "text": [
      "Num steps: 5000 \t Avg Reward: -25.099 \t Obj(Actor): -0.031 \t Loss(Critic): 0.047\n"
     ]
    },
    {
     "name": "stderr",
     "output_type": "stream",
     "text": [
      "  5%|▌         | 5202/100000 [10:57<3:39:06,  7.21it/s]"
     ]
    },
    {
     "name": "stdout",
     "output_type": "stream",
     "text": [
      "Num steps: 5200 \t Avg Reward: -26.122 \t Obj(Actor): -0.049 \t Loss(Critic): 0.002\n"
     ]
    },
    {
     "name": "stderr",
     "output_type": "stream",
     "text": [
      "  5%|▌         | 5402/100000 [11:23<3:38:12,  7.23it/s]"
     ]
    },
    {
     "name": "stdout",
     "output_type": "stream",
     "text": [
      "Num steps: 5400 \t Avg Reward: -23.928 \t Obj(Actor): 0.010 \t Loss(Critic): 0.362\n"
     ]
    },
    {
     "name": "stderr",
     "output_type": "stream",
     "text": [
      "  6%|▌         | 5602/100000 [11:48<3:33:15,  7.38it/s]"
     ]
    },
    {
     "name": "stdout",
     "output_type": "stream",
     "text": [
      "Num steps: 5600 \t Avg Reward: -10.886 \t Obj(Actor): -0.119 \t Loss(Critic): 0.020\n"
     ]
    },
    {
     "name": "stderr",
     "output_type": "stream",
     "text": [
      "  6%|▌         | 5802/100000 [12:13<3:40:31,  7.12it/s]"
     ]
    },
    {
     "name": "stdout",
     "output_type": "stream",
     "text": [
      "Num steps: 5800 \t Avg Reward: -24.913 \t Obj(Actor): -0.132 \t Loss(Critic): 0.016\n"
     ]
    },
    {
     "name": "stderr",
     "output_type": "stream",
     "text": [
      "  6%|▌         | 6002/100000 [12:39<3:20:40,  7.81it/s]"
     ]
    },
    {
     "name": "stdout",
     "output_type": "stream",
     "text": [
      "Num steps: 6000 \t Avg Reward: -0.053 \t Obj(Actor): 0.157 \t Loss(Critic): 0.005\n"
     ]
    },
    {
     "name": "stderr",
     "output_type": "stream",
     "text": [
      "  6%|▌         | 6202/100000 [13:04<3:37:06,  7.20it/s]"
     ]
    },
    {
     "name": "stdout",
     "output_type": "stream",
     "text": [
      "Num steps: 6200 \t Avg Reward: -25.538 \t Obj(Actor): -0.031 \t Loss(Critic): 0.027\n"
     ]
    },
    {
     "name": "stderr",
     "output_type": "stream",
     "text": [
      "  6%|▋         | 6402/100000 [13:30<3:50:51,  6.76it/s]"
     ]
    },
    {
     "name": "stdout",
     "output_type": "stream",
     "text": [
      "Num steps: 6400 \t Avg Reward: -23.543 \t Obj(Actor): -0.079 \t Loss(Critic): 0.018\n"
     ]
    },
    {
     "name": "stderr",
     "output_type": "stream",
     "text": [
      "  7%|▋         | 6602/100000 [13:55<3:38:55,  7.11it/s]"
     ]
    },
    {
     "name": "stdout",
     "output_type": "stream",
     "text": [
      "Num steps: 6600 \t Avg Reward: -26.827 \t Obj(Actor): -0.048 \t Loss(Critic): 0.061\n"
     ]
    },
    {
     "name": "stderr",
     "output_type": "stream",
     "text": [
      "  7%|▋         | 6802/100000 [14:20<3:25:32,  7.56it/s]"
     ]
    },
    {
     "name": "stdout",
     "output_type": "stream",
     "text": [
      "Num steps: 6800 \t Avg Reward: -13.727 \t Obj(Actor): -0.063 \t Loss(Critic): 0.038\n"
     ]
    },
    {
     "name": "stderr",
     "output_type": "stream",
     "text": [
      "  7%|▋         | 7002/100000 [14:46<3:39:54,  7.05it/s]"
     ]
    },
    {
     "name": "stdout",
     "output_type": "stream",
     "text": [
      "Num steps: 7000 \t Avg Reward: -21.343 \t Obj(Actor): 0.027 \t Loss(Critic): 1.646\n"
     ]
    },
    {
     "name": "stderr",
     "output_type": "stream",
     "text": [
      "  7%|▋         | 7202/100000 [15:11<3:34:35,  7.21it/s]"
     ]
    },
    {
     "name": "stdout",
     "output_type": "stream",
     "text": [
      "Num steps: 7200 \t Avg Reward: -13.441 \t Obj(Actor): -0.000 \t Loss(Critic): 0.001\n"
     ]
    },
    {
     "name": "stderr",
     "output_type": "stream",
     "text": [
      "  7%|▋         | 7402/100000 [15:37<3:34:56,  7.18it/s]"
     ]
    },
    {
     "name": "stdout",
     "output_type": "stream",
     "text": [
      "Num steps: 7400 \t Avg Reward: -21.893 \t Obj(Actor): 0.038 \t Loss(Critic): 0.205\n"
     ]
    },
    {
     "name": "stderr",
     "output_type": "stream",
     "text": [
      "  8%|▊         | 7602/100000 [16:03<3:38:46,  7.04it/s]"
     ]
    },
    {
     "name": "stdout",
     "output_type": "stream",
     "text": [
      "Num steps: 7600 \t Avg Reward: -22.085 \t Obj(Actor): 0.080 \t Loss(Critic): 0.001\n"
     ]
    },
    {
     "name": "stderr",
     "output_type": "stream",
     "text": [
      "  8%|▊         | 7802/100000 [16:28<3:37:16,  7.07it/s]"
     ]
    },
    {
     "name": "stdout",
     "output_type": "stream",
     "text": [
      "Num steps: 7800 \t Avg Reward: -22.109 \t Obj(Actor): -0.005 \t Loss(Critic): 0.013\n"
     ]
    },
    {
     "name": "stderr",
     "output_type": "stream",
     "text": [
      "  8%|▊         | 8002/100000 [16:56<3:50:03,  6.66it/s]"
     ]
    },
    {
     "name": "stdout",
     "output_type": "stream",
     "text": [
      "Num steps: 8000 \t Avg Reward: -23.208 \t Obj(Actor): 0.023 \t Loss(Critic): 0.007\n"
     ]
    },
    {
     "name": "stderr",
     "output_type": "stream",
     "text": [
      "  8%|▊         | 8202/100000 [17:25<5:02:25,  5.06it/s]"
     ]
    },
    {
     "name": "stdout",
     "output_type": "stream",
     "text": [
      "Num steps: 8200 \t Avg Reward: -23.829 \t Obj(Actor): -0.043 \t Loss(Critic): 0.000\n"
     ]
    },
    {
     "name": "stderr",
     "output_type": "stream",
     "text": [
      "  8%|▊         | 8402/100000 [17:59<5:20:29,  4.76it/s]"
     ]
    },
    {
     "name": "stdout",
     "output_type": "stream",
     "text": [
      "Num steps: 8400 \t Avg Reward: -23.550 \t Obj(Actor): 0.032 \t Loss(Critic): 0.002\n"
     ]
    },
    {
     "name": "stderr",
     "output_type": "stream",
     "text": [
      "  9%|▊         | 8602/100000 [18:34<4:46:31,  5.32it/s]"
     ]
    },
    {
     "name": "stdout",
     "output_type": "stream",
     "text": [
      "Num steps: 8600 \t Avg Reward: -20.787 \t Obj(Actor): 0.014 \t Loss(Critic): 0.075\n"
     ]
    },
    {
     "name": "stderr",
     "output_type": "stream",
     "text": [
      "  9%|▉         | 8802/100000 [19:09<4:51:29,  5.21it/s]"
     ]
    },
    {
     "name": "stdout",
     "output_type": "stream",
     "text": [
      "Num steps: 8800 \t Avg Reward: -23.929 \t Obj(Actor): 0.028 \t Loss(Critic): 0.001\n"
     ]
    },
    {
     "name": "stderr",
     "output_type": "stream",
     "text": [
      "  9%|▉         | 9002/100000 [19:44<4:50:55,  5.21it/s]"
     ]
    },
    {
     "name": "stdout",
     "output_type": "stream",
     "text": [
      "Num steps: 9000 \t Avg Reward: -22.491 \t Obj(Actor): 0.032 \t Loss(Critic): 0.006\n"
     ]
    },
    {
     "name": "stderr",
     "output_type": "stream",
     "text": [
      "  9%|▉         | 9202/100000 [20:19<4:49:41,  5.22it/s]"
     ]
    },
    {
     "name": "stdout",
     "output_type": "stream",
     "text": [
      "Num steps: 9200 \t Avg Reward: -22.552 \t Obj(Actor): 0.045 \t Loss(Critic): 0.002\n"
     ]
    },
    {
     "name": "stderr",
     "output_type": "stream",
     "text": [
      "  9%|▉         | 9402/100000 [20:55<4:39:43,  5.40it/s]"
     ]
    },
    {
     "name": "stdout",
     "output_type": "stream",
     "text": [
      "Num steps: 9400 \t Avg Reward: -22.657 \t Obj(Actor): 0.021 \t Loss(Critic): 0.010\n"
     ]
    },
    {
     "name": "stderr",
     "output_type": "stream",
     "text": [
      " 10%|▉         | 9602/100000 [21:31<4:51:42,  5.16it/s]"
     ]
    },
    {
     "name": "stdout",
     "output_type": "stream",
     "text": [
      "Num steps: 9600 \t Avg Reward: -24.656 \t Obj(Actor): 0.043 \t Loss(Critic): 0.030\n"
     ]
    },
    {
     "name": "stderr",
     "output_type": "stream",
     "text": [
      " 10%|▉         | 9801/100000 [22:07<5:02:52,  4.96it/s]"
     ]
    },
    {
     "name": "stdout",
     "output_type": "stream",
     "text": [
      "Num steps: 9800 \t Avg Reward: -24.680 \t Obj(Actor): 0.054 \t Loss(Critic): 0.000\n"
     ]
    },
    {
     "name": "stderr",
     "output_type": "stream",
     "text": [
      " 10%|█         | 10002/100000 [22:42<5:02:10,  4.96it/s]"
     ]
    },
    {
     "name": "stdout",
     "output_type": "stream",
     "text": [
      "Num steps: 10000 \t Avg Reward: -24.423 \t Obj(Actor): 0.086 \t Loss(Critic): 0.065\n"
     ]
    },
    {
     "name": "stderr",
     "output_type": "stream",
     "text": [
      " 10%|█         | 10202/100000 [23:15<4:59:00,  5.01it/s]"
     ]
    },
    {
     "name": "stdout",
     "output_type": "stream",
     "text": [
      "Num steps: 10200 \t Avg Reward: -27.078 \t Obj(Actor): 0.107 \t Loss(Critic): 0.001\n"
     ]
    },
    {
     "name": "stderr",
     "output_type": "stream",
     "text": [
      " 10%|█         | 10402/100000 [23:48<4:27:07,  5.59it/s]"
     ]
    },
    {
     "name": "stdout",
     "output_type": "stream",
     "text": [
      "Num steps: 10400 \t Avg Reward: -19.780 \t Obj(Actor): 0.113 \t Loss(Critic): 0.017\n"
     ]
    },
    {
     "name": "stderr",
     "output_type": "stream",
     "text": [
      " 11%|█         | 10602/100000 [24:22<4:30:33,  5.51it/s]"
     ]
    },
    {
     "name": "stdout",
     "output_type": "stream",
     "text": [
      "Num steps: 10600 \t Avg Reward: -27.946 \t Obj(Actor): 0.102 \t Loss(Critic): 0.001\n"
     ]
    },
    {
     "name": "stderr",
     "output_type": "stream",
     "text": [
      " 11%|█         | 10802/100000 [24:56<4:06:29,  6.03it/s]"
     ]
    },
    {
     "name": "stdout",
     "output_type": "stream",
     "text": [
      "Num steps: 10800 \t Avg Reward: -0.007 \t Obj(Actor): 0.072 \t Loss(Critic): 0.000\n"
     ]
    },
    {
     "name": "stderr",
     "output_type": "stream",
     "text": [
      " 11%|█         | 11002/100000 [25:29<4:22:40,  5.65it/s]"
     ]
    },
    {
     "name": "stdout",
     "output_type": "stream",
     "text": [
      "Num steps: 11000 \t Avg Reward: -24.622 \t Obj(Actor): 0.105 \t Loss(Critic): 0.005\n"
     ]
    },
    {
     "name": "stderr",
     "output_type": "stream",
     "text": [
      " 11%|█         | 11202/100000 [26:04<4:29:11,  5.50it/s]"
     ]
    },
    {
     "name": "stdout",
     "output_type": "stream",
     "text": [
      "Num steps: 11200 \t Avg Reward: -24.899 \t Obj(Actor): 0.084 \t Loss(Critic): 0.002\n"
     ]
    },
    {
     "name": "stderr",
     "output_type": "stream",
     "text": [
      " 11%|█▏        | 11402/100000 [26:39<5:08:14,  4.79it/s]"
     ]
    },
    {
     "name": "stdout",
     "output_type": "stream",
     "text": [
      "Num steps: 11400 \t Avg Reward: -24.687 \t Obj(Actor): 0.098 \t Loss(Critic): 0.026\n"
     ]
    },
    {
     "name": "stderr",
     "output_type": "stream",
     "text": [
      " 12%|█▏        | 11602/100000 [27:11<3:44:28,  6.56it/s]"
     ]
    },
    {
     "name": "stdout",
     "output_type": "stream",
     "text": [
      "Num steps: 11600 \t Avg Reward: -21.935 \t Obj(Actor): 0.084 \t Loss(Critic): 0.075\n"
     ]
    },
    {
     "name": "stderr",
     "output_type": "stream",
     "text": [
      " 12%|█▏        | 11802/100000 [27:41<3:57:52,  6.18it/s]"
     ]
    },
    {
     "name": "stdout",
     "output_type": "stream",
     "text": [
      "Num steps: 11800 \t Avg Reward: -17.256 \t Obj(Actor): 0.081 \t Loss(Critic): 0.001\n"
     ]
    },
    {
     "name": "stderr",
     "output_type": "stream",
     "text": [
      " 12%|█▏        | 12002/100000 [28:10<3:27:01,  7.08it/s]"
     ]
    },
    {
     "name": "stdout",
     "output_type": "stream",
     "text": [
      "Num steps: 12000 \t Avg Reward: -13.788 \t Obj(Actor): 0.091 \t Loss(Critic): 0.001\n"
     ]
    },
    {
     "name": "stderr",
     "output_type": "stream",
     "text": [
      " 12%|█▏        | 12202/100000 [28:38<3:32:15,  6.89it/s]"
     ]
    },
    {
     "name": "stdout",
     "output_type": "stream",
     "text": [
      "Num steps: 12200 \t Avg Reward: -22.640 \t Obj(Actor): 0.091 \t Loss(Critic): 0.001\n"
     ]
    },
    {
     "name": "stderr",
     "output_type": "stream",
     "text": [
      " 12%|█▏        | 12402/100000 [29:06<3:34:41,  6.80it/s]"
     ]
    },
    {
     "name": "stdout",
     "output_type": "stream",
     "text": [
      "Num steps: 12400 \t Avg Reward: -24.982 \t Obj(Actor): 0.078 \t Loss(Critic): 0.009\n"
     ]
    },
    {
     "name": "stderr",
     "output_type": "stream",
     "text": [
      " 13%|█▎        | 12602/100000 [29:33<3:29:59,  6.94it/s]"
     ]
    },
    {
     "name": "stdout",
     "output_type": "stream",
     "text": [
      "Num steps: 12600 \t Avg Reward: -25.312 \t Obj(Actor): 0.097 \t Loss(Critic): 0.004\n"
     ]
    },
    {
     "name": "stderr",
     "output_type": "stream",
     "text": [
      " 13%|█▎        | 12802/100000 [30:01<3:45:47,  6.44it/s]"
     ]
    },
    {
     "name": "stdout",
     "output_type": "stream",
     "text": [
      "Num steps: 12800 \t Avg Reward: -23.509 \t Obj(Actor): 0.087 \t Loss(Critic): 0.000\n"
     ]
    },
    {
     "name": "stderr",
     "output_type": "stream",
     "text": [
      " 13%|█▎        | 13002/100000 [30:28<3:28:47,  6.94it/s]"
     ]
    },
    {
     "name": "stdout",
     "output_type": "stream",
     "text": [
      "Num steps: 13000 \t Avg Reward: -19.780 \t Obj(Actor): 0.080 \t Loss(Critic): 0.002\n"
     ]
    },
    {
     "name": "stderr",
     "output_type": "stream",
     "text": [
      " 13%|█▎        | 13202/100000 [30:54<3:24:54,  7.06it/s]"
     ]
    },
    {
     "name": "stdout",
     "output_type": "stream",
     "text": [
      "Num steps: 13200 \t Avg Reward: -22.860 \t Obj(Actor): 0.111 \t Loss(Critic): 0.001\n"
     ]
    },
    {
     "name": "stderr",
     "output_type": "stream",
     "text": [
      " 13%|█▎        | 13402/100000 [31:20<3:23:10,  7.10it/s]"
     ]
    },
    {
     "name": "stdout",
     "output_type": "stream",
     "text": [
      "Num steps: 13400 \t Avg Reward: -27.725 \t Obj(Actor): 0.087 \t Loss(Critic): 0.001\n"
     ]
    },
    {
     "name": "stderr",
     "output_type": "stream",
     "text": [
      " 14%|█▎        | 13602/100000 [31:46<3:25:10,  7.02it/s]"
     ]
    },
    {
     "name": "stdout",
     "output_type": "stream",
     "text": [
      "Num steps: 13600 \t Avg Reward: -26.259 \t Obj(Actor): 0.100 \t Loss(Critic): 0.003\n"
     ]
    },
    {
     "name": "stderr",
     "output_type": "stream",
     "text": [
      " 14%|█▍        | 13802/100000 [32:12<3:26:44,  6.95it/s]"
     ]
    },
    {
     "name": "stdout",
     "output_type": "stream",
     "text": [
      "Num steps: 13800 \t Avg Reward: -23.706 \t Obj(Actor): 0.095 \t Loss(Critic): 0.000\n"
     ]
    },
    {
     "name": "stderr",
     "output_type": "stream",
     "text": [
      " 14%|█▍        | 14002/100000 [32:37<3:06:12,  7.70it/s]"
     ]
    },
    {
     "name": "stdout",
     "output_type": "stream",
     "text": [
      "Num steps: 14000 \t Avg Reward: -0.006 \t Obj(Actor): 0.105 \t Loss(Critic): 0.001\n"
     ]
    },
    {
     "name": "stderr",
     "output_type": "stream",
     "text": [
      " 14%|█▍        | 14202/100000 [33:03<3:26:03,  6.94it/s]"
     ]
    },
    {
     "name": "stdout",
     "output_type": "stream",
     "text": [
      "Num steps: 14200 \t Avg Reward: -23.411 \t Obj(Actor): 0.090 \t Loss(Critic): 0.001\n"
     ]
    },
    {
     "name": "stderr",
     "output_type": "stream",
     "text": [
      " 14%|█▍        | 14402/100000 [33:28<3:01:58,  7.84it/s]"
     ]
    },
    {
     "name": "stdout",
     "output_type": "stream",
     "text": [
      "Num steps: 14400 \t Avg Reward: -0.005 \t Obj(Actor): 0.100 \t Loss(Critic): 0.001\n"
     ]
    },
    {
     "name": "stderr",
     "output_type": "stream",
     "text": [
      " 15%|█▍        | 14602/100000 [33:54<3:19:27,  7.14it/s]"
     ]
    },
    {
     "name": "stdout",
     "output_type": "stream",
     "text": [
      "Num steps: 14600 \t Avg Reward: -18.930 \t Obj(Actor): 0.092 \t Loss(Critic): 0.016\n"
     ]
    },
    {
     "name": "stderr",
     "output_type": "stream",
     "text": [
      " 15%|█▍        | 14802/100000 [34:20<3:20:50,  7.07it/s]"
     ]
    },
    {
     "name": "stdout",
     "output_type": "stream",
     "text": [
      "Num steps: 14800 \t Avg Reward: -22.694 \t Obj(Actor): 0.098 \t Loss(Critic): 0.001\n"
     ]
    },
    {
     "name": "stderr",
     "output_type": "stream",
     "text": [
      " 15%|█▌        | 15002/100000 [34:45<3:20:08,  7.08it/s]"
     ]
    },
    {
     "name": "stdout",
     "output_type": "stream",
     "text": [
      "Num steps: 15000 \t Avg Reward: -21.868 \t Obj(Actor): 0.094 \t Loss(Critic): 0.021\n"
     ]
    },
    {
     "name": "stderr",
     "output_type": "stream",
     "text": [
      " 15%|█▌        | 15202/100000 [35:11<3:15:36,  7.23it/s]"
     ]
    },
    {
     "name": "stdout",
     "output_type": "stream",
     "text": [
      "Num steps: 15200 \t Avg Reward: -12.203 \t Obj(Actor): 0.081 \t Loss(Critic): 0.001\n"
     ]
    },
    {
     "name": "stderr",
     "output_type": "stream",
     "text": [
      " 15%|█▌        | 15402/100000 [35:37<3:20:42,  7.03it/s]"
     ]
    },
    {
     "name": "stdout",
     "output_type": "stream",
     "text": [
      "Num steps: 15400 \t Avg Reward: -21.403 \t Obj(Actor): 0.096 \t Loss(Critic): 0.005\n"
     ]
    },
    {
     "name": "stderr",
     "output_type": "stream",
     "text": [
      " 16%|█▌        | 15602/100000 [36:03<3:13:02,  7.29it/s]"
     ]
    },
    {
     "name": "stdout",
     "output_type": "stream",
     "text": [
      "Num steps: 15600 \t Avg Reward: -13.559 \t Obj(Actor): 0.094 \t Loss(Critic): 0.002\n"
     ]
    },
    {
     "name": "stderr",
     "output_type": "stream",
     "text": [
      " 16%|█▌        | 15802/100000 [36:28<3:15:11,  7.19it/s]"
     ]
    },
    {
     "name": "stdout",
     "output_type": "stream",
     "text": [
      "Num steps: 15800 \t Avg Reward: -25.027 \t Obj(Actor): 0.091 \t Loss(Critic): 0.017\n"
     ]
    },
    {
     "name": "stderr",
     "output_type": "stream",
     "text": [
      " 16%|█▌        | 16002/100000 [36:54<2:59:32,  7.80it/s]"
     ]
    },
    {
     "name": "stdout",
     "output_type": "stream",
     "text": [
      "Num steps: 16000 \t Avg Reward: -0.088 \t Obj(Actor): 0.102 \t Loss(Critic): 0.022\n"
     ]
    },
    {
     "name": "stderr",
     "output_type": "stream",
     "text": [
      " 16%|█▌        | 16202/100000 [37:19<3:16:50,  7.10it/s]"
     ]
    },
    {
     "name": "stdout",
     "output_type": "stream",
     "text": [
      "Num steps: 16200 \t Avg Reward: -21.602 \t Obj(Actor): 0.106 \t Loss(Critic): 0.002\n"
     ]
    },
    {
     "name": "stderr",
     "output_type": "stream",
     "text": [
      " 16%|█▋        | 16402/100000 [37:45<2:55:45,  7.93it/s]"
     ]
    },
    {
     "name": "stdout",
     "output_type": "stream",
     "text": [
      "Num steps: 16400 \t Avg Reward: -0.004 \t Obj(Actor): 0.088 \t Loss(Critic): 0.007\n"
     ]
    },
    {
     "name": "stderr",
     "output_type": "stream",
     "text": [
      " 17%|█▋        | 16602/100000 [38:10<3:02:05,  7.63it/s]"
     ]
    },
    {
     "name": "stdout",
     "output_type": "stream",
     "text": [
      "Num steps: 16600 \t Avg Reward: -0.008 \t Obj(Actor): 0.102 \t Loss(Critic): 0.003\n"
     ]
    },
    {
     "name": "stderr",
     "output_type": "stream",
     "text": [
      " 17%|█▋        | 16802/100000 [38:36<3:17:10,  7.03it/s]"
     ]
    },
    {
     "name": "stdout",
     "output_type": "stream",
     "text": [
      "Num steps: 16800 \t Avg Reward: -20.318 \t Obj(Actor): 0.072 \t Loss(Critic): 0.000\n"
     ]
    },
    {
     "name": "stderr",
     "output_type": "stream",
     "text": [
      " 17%|█▋        | 17002/100000 [39:02<3:16:34,  7.04it/s]"
     ]
    },
    {
     "name": "stdout",
     "output_type": "stream",
     "text": [
      "Num steps: 17000 \t Avg Reward: -20.607 \t Obj(Actor): 0.075 \t Loss(Critic): 0.000\n"
     ]
    },
    {
     "name": "stderr",
     "output_type": "stream",
     "text": [
      " 17%|█▋        | 17202/100000 [39:28<4:33:07,  5.05it/s]"
     ]
    },
    {
     "name": "stdout",
     "output_type": "stream",
     "text": [
      "Num steps: 17200 \t Avg Reward: -27.204 \t Obj(Actor): 0.109 \t Loss(Critic): 0.025\n"
     ]
    },
    {
     "name": "stderr",
     "output_type": "stream",
     "text": [
      " 17%|█▋        | 17402/100000 [39:54<3:13:47,  7.10it/s]"
     ]
    },
    {
     "name": "stdout",
     "output_type": "stream",
     "text": [
      "Num steps: 17400 \t Avg Reward: -17.956 \t Obj(Actor): 0.090 \t Loss(Critic): 0.000\n"
     ]
    },
    {
     "name": "stderr",
     "output_type": "stream",
     "text": [
      " 18%|█▊        | 17602/100000 [40:20<3:04:50,  7.43it/s]"
     ]
    },
    {
     "name": "stdout",
     "output_type": "stream",
     "text": [
      "Num steps: 17600 \t Avg Reward: -14.193 \t Obj(Actor): 0.111 \t Loss(Critic): 0.003\n"
     ]
    },
    {
     "name": "stderr",
     "output_type": "stream",
     "text": [
      " 18%|█▊        | 17802/100000 [40:45<3:12:12,  7.13it/s]"
     ]
    },
    {
     "name": "stdout",
     "output_type": "stream",
     "text": [
      "Num steps: 17800 \t Avg Reward: -21.347 \t Obj(Actor): 0.101 \t Loss(Critic): 0.019\n"
     ]
    },
    {
     "name": "stderr",
     "output_type": "stream",
     "text": [
      " 18%|█▊        | 18002/100000 [41:11<3:10:24,  7.18it/s]"
     ]
    },
    {
     "name": "stdout",
     "output_type": "stream",
     "text": [
      "Num steps: 18000 \t Avg Reward: -23.763 \t Obj(Actor): 0.084 \t Loss(Critic): 0.002\n"
     ]
    },
    {
     "name": "stderr",
     "output_type": "stream",
     "text": [
      " 18%|█▊        | 18202/100000 [41:37<3:13:36,  7.04it/s]"
     ]
    },
    {
     "name": "stdout",
     "output_type": "stream",
     "text": [
      "Num steps: 18200 \t Avg Reward: -17.575 \t Obj(Actor): 0.095 \t Loss(Critic): 0.001\n"
     ]
    },
    {
     "name": "stderr",
     "output_type": "stream",
     "text": [
      " 18%|█▊        | 18402/100000 [42:02<3:12:50,  7.05it/s]"
     ]
    },
    {
     "name": "stdout",
     "output_type": "stream",
     "text": [
      "Num steps: 18400 \t Avg Reward: -23.429 \t Obj(Actor): 0.082 \t Loss(Critic): 0.009\n"
     ]
    },
    {
     "name": "stderr",
     "output_type": "stream",
     "text": [
      " 19%|█▊        | 18602/100000 [42:28<3:11:11,  7.10it/s]"
     ]
    },
    {
     "name": "stdout",
     "output_type": "stream",
     "text": [
      "Num steps: 18600 \t Avg Reward: -22.316 \t Obj(Actor): 0.078 \t Loss(Critic): 0.023\n"
     ]
    },
    {
     "name": "stderr",
     "output_type": "stream",
     "text": [
      " 19%|█▉        | 18802/100000 [42:53<3:10:14,  7.11it/s]"
     ]
    },
    {
     "name": "stdout",
     "output_type": "stream",
     "text": [
      "Num steps: 18800 \t Avg Reward: -20.360 \t Obj(Actor): 0.089 \t Loss(Critic): 0.012\n"
     ]
    },
    {
     "name": "stderr",
     "output_type": "stream",
     "text": [
      " 19%|█▉        | 19002/100000 [43:19<3:12:28,  7.01it/s]"
     ]
    },
    {
     "name": "stdout",
     "output_type": "stream",
     "text": [
      "Num steps: 19000 \t Avg Reward: -19.840 \t Obj(Actor): 0.088 \t Loss(Critic): 0.004\n"
     ]
    },
    {
     "name": "stderr",
     "output_type": "stream",
     "text": [
      " 19%|█▉        | 19202/100000 [43:45<3:08:41,  7.14it/s]"
     ]
    },
    {
     "name": "stdout",
     "output_type": "stream",
     "text": [
      "Num steps: 19200 \t Avg Reward: -23.894 \t Obj(Actor): 0.083 \t Loss(Critic): 0.000\n"
     ]
    },
    {
     "name": "stderr",
     "output_type": "stream",
     "text": [
      " 19%|█▉        | 19402/100000 [44:10<3:07:02,  7.18it/s]"
     ]
    },
    {
     "name": "stdout",
     "output_type": "stream",
     "text": [
      "Num steps: 19400 \t Avg Reward: -22.634 \t Obj(Actor): 0.079 \t Loss(Critic): 0.012\n"
     ]
    },
    {
     "name": "stderr",
     "output_type": "stream",
     "text": [
      " 20%|█▉        | 19602/100000 [44:36<3:08:33,  7.11it/s]"
     ]
    },
    {
     "name": "stdout",
     "output_type": "stream",
     "text": [
      "Num steps: 19600 \t Avg Reward: -25.446 \t Obj(Actor): 0.090 \t Loss(Critic): 0.002\n"
     ]
    },
    {
     "name": "stderr",
     "output_type": "stream",
     "text": [
      " 20%|█▉        | 19802/100000 [45:02<3:12:43,  6.94it/s]"
     ]
    },
    {
     "name": "stdout",
     "output_type": "stream",
     "text": [
      "Num steps: 19800 \t Avg Reward: -20.494 \t Obj(Actor): 0.084 \t Loss(Critic): 0.000\n"
     ]
    },
    {
     "name": "stderr",
     "output_type": "stream",
     "text": [
      " 20%|██        | 20002/100000 [45:27<3:08:28,  7.07it/s]"
     ]
    },
    {
     "name": "stdout",
     "output_type": "stream",
     "text": [
      "Num steps: 20000 \t Avg Reward: -22.240 \t Obj(Actor): 0.087 \t Loss(Critic): 0.046\n"
     ]
    },
    {
     "name": "stderr",
     "output_type": "stream",
     "text": [
      " 20%|██        | 20202/100000 [45:53<3:07:33,  7.09it/s]"
     ]
    },
    {
     "name": "stdout",
     "output_type": "stream",
     "text": [
      "Num steps: 20200 \t Avg Reward: -23.862 \t Obj(Actor): 0.100 \t Loss(Critic): 0.000\n"
     ]
    },
    {
     "name": "stderr",
     "output_type": "stream",
     "text": [
      " 20%|██        | 20402/100000 [46:18<3:07:35,  7.07it/s]"
     ]
    },
    {
     "name": "stdout",
     "output_type": "stream",
     "text": [
      "Num steps: 20400 \t Avg Reward: -20.133 \t Obj(Actor): 0.088 \t Loss(Critic): 0.000\n"
     ]
    },
    {
     "name": "stderr",
     "output_type": "stream",
     "text": [
      " 21%|██        | 20602/100000 [46:44<3:05:26,  7.14it/s]"
     ]
    },
    {
     "name": "stdout",
     "output_type": "stream",
     "text": [
      "Num steps: 20600 \t Avg Reward: -27.106 \t Obj(Actor): 0.095 \t Loss(Critic): 0.038\n"
     ]
    },
    {
     "name": "stderr",
     "output_type": "stream",
     "text": [
      " 21%|██        | 20802/100000 [47:10<3:04:14,  7.16it/s]"
     ]
    },
    {
     "name": "stdout",
     "output_type": "stream",
     "text": [
      "Num steps: 20800 \t Avg Reward: -12.319 \t Obj(Actor): 0.084 \t Loss(Critic): 0.000\n"
     ]
    },
    {
     "name": "stderr",
     "output_type": "stream",
     "text": [
      " 21%|██        | 21002/100000 [47:35<3:03:25,  7.18it/s]"
     ]
    },
    {
     "name": "stdout",
     "output_type": "stream",
     "text": [
      "Num steps: 21000 \t Avg Reward: -22.422 \t Obj(Actor): 0.095 \t Loss(Critic): 0.012\n"
     ]
    },
    {
     "name": "stderr",
     "output_type": "stream",
     "text": [
      " 21%|██        | 21202/100000 [48:02<3:19:18,  6.59it/s]"
     ]
    },
    {
     "name": "stdout",
     "output_type": "stream",
     "text": [
      "Num steps: 21200 \t Avg Reward: -22.085 \t Obj(Actor): 0.089 \t Loss(Critic): 0.001\n"
     ]
    },
    {
     "name": "stderr",
     "output_type": "stream",
     "text": [
      " 21%|██▏       | 21402/100000 [48:28<3:10:39,  6.87it/s]"
     ]
    },
    {
     "name": "stdout",
     "output_type": "stream",
     "text": [
      "Num steps: 21400 \t Avg Reward: -20.949 \t Obj(Actor): 0.085 \t Loss(Critic): 0.028\n"
     ]
    },
    {
     "name": "stderr",
     "output_type": "stream",
     "text": [
      " 22%|██▏       | 21602/100000 [48:56<3:03:26,  7.12it/s]"
     ]
    },
    {
     "name": "stdout",
     "output_type": "stream",
     "text": [
      "Num steps: 21600 \t Avg Reward: -9.821 \t Obj(Actor): 0.087 \t Loss(Critic): 0.038\n"
     ]
    },
    {
     "name": "stderr",
     "output_type": "stream",
     "text": [
      " 22%|██▏       | 21802/100000 [49:24<3:14:20,  6.71it/s]"
     ]
    },
    {
     "name": "stdout",
     "output_type": "stream",
     "text": [
      "Num steps: 21800 \t Avg Reward: -19.541 \t Obj(Actor): 0.085 \t Loss(Critic): 0.016\n"
     ]
    },
    {
     "name": "stderr",
     "output_type": "stream",
     "text": [
      " 22%|██▏       | 22002/100000 [49:54<3:23:50,  6.38it/s]"
     ]
    },
    {
     "name": "stdout",
     "output_type": "stream",
     "text": [
      "Num steps: 22000 \t Avg Reward: -13.356 \t Obj(Actor): 0.090 \t Loss(Critic): 0.019\n"
     ]
    },
    {
     "name": "stderr",
     "output_type": "stream",
     "text": [
      " 22%|██▏       | 22202/100000 [50:24<3:33:06,  6.08it/s]"
     ]
    },
    {
     "name": "stdout",
     "output_type": "stream",
     "text": [
      "Num steps: 22200 \t Avg Reward: -18.665 \t Obj(Actor): 0.082 \t Loss(Critic): 0.003\n"
     ]
    },
    {
     "name": "stderr",
     "output_type": "stream",
     "text": [
      " 22%|██▏       | 22402/100000 [50:53<3:17:55,  6.53it/s]"
     ]
    },
    {
     "name": "stdout",
     "output_type": "stream",
     "text": [
      "Num steps: 22400 \t Avg Reward: -23.092 \t Obj(Actor): 0.088 \t Loss(Critic): 0.000\n"
     ]
    },
    {
     "name": "stderr",
     "output_type": "stream",
     "text": [
      " 23%|██▎       | 22602/100000 [51:22<3:10:48,  6.76it/s]"
     ]
    },
    {
     "name": "stdout",
     "output_type": "stream",
     "text": [
      "Num steps: 22600 \t Avg Reward: -18.595 \t Obj(Actor): 0.097 \t Loss(Critic): 0.000\n"
     ]
    },
    {
     "name": "stderr",
     "output_type": "stream",
     "text": [
      " 23%|██▎       | 22802/100000 [51:50<3:05:39,  6.93it/s]"
     ]
    },
    {
     "name": "stdout",
     "output_type": "stream",
     "text": [
      "Num steps: 22800 \t Avg Reward: -20.462 \t Obj(Actor): 0.073 \t Loss(Critic): 0.019\n"
     ]
    },
    {
     "name": "stderr",
     "output_type": "stream",
     "text": [
      " 23%|██▎       | 23002/100000 [52:17<3:05:56,  6.90it/s]"
     ]
    },
    {
     "name": "stdout",
     "output_type": "stream",
     "text": [
      "Num steps: 23000 \t Avg Reward: -13.455 \t Obj(Actor): 0.086 \t Loss(Critic): 0.029\n"
     ]
    },
    {
     "name": "stderr",
     "output_type": "stream",
     "text": [
      " 23%|██▎       | 23202/100000 [52:44<3:15:41,  6.54it/s]"
     ]
    },
    {
     "name": "stdout",
     "output_type": "stream",
     "text": [
      "Num steps: 23200 \t Avg Reward: -20.230 \t Obj(Actor): 0.097 \t Loss(Critic): 0.003\n"
     ]
    },
    {
     "name": "stderr",
     "output_type": "stream",
     "text": [
      " 23%|██▎       | 23402/100000 [53:11<3:17:20,  6.47it/s]"
     ]
    },
    {
     "name": "stdout",
     "output_type": "stream",
     "text": [
      "Num steps: 23400 \t Avg Reward: -26.337 \t Obj(Actor): 0.086 \t Loss(Critic): 0.004\n"
     ]
    },
    {
     "name": "stderr",
     "output_type": "stream",
     "text": [
      " 24%|██▎       | 23602/100000 [53:38<3:16:22,  6.48it/s]"
     ]
    },
    {
     "name": "stdout",
     "output_type": "stream",
     "text": [
      "Num steps: 23600 \t Avg Reward: -23.890 \t Obj(Actor): 0.081 \t Loss(Critic): 0.000\n"
     ]
    },
    {
     "name": "stderr",
     "output_type": "stream",
     "text": [
      " 24%|██▍       | 23802/100000 [54:04<2:56:42,  7.19it/s]"
     ]
    },
    {
     "name": "stdout",
     "output_type": "stream",
     "text": [
      "Num steps: 23800 \t Avg Reward: -23.050 \t Obj(Actor): 0.094 \t Loss(Critic): 0.086\n"
     ]
    },
    {
     "name": "stderr",
     "output_type": "stream",
     "text": [
      " 24%|██▍       | 24002/100000 [54:31<3:11:32,  6.61it/s]"
     ]
    },
    {
     "name": "stdout",
     "output_type": "stream",
     "text": [
      "Num steps: 24000 \t Avg Reward: -26.103 \t Obj(Actor): 0.082 \t Loss(Critic): 0.000\n"
     ]
    },
    {
     "name": "stderr",
     "output_type": "stream",
     "text": [
      " 24%|██▍       | 24202/100000 [54:56<2:58:56,  7.06it/s]"
     ]
    },
    {
     "name": "stdout",
     "output_type": "stream",
     "text": [
      "Num steps: 24200 \t Avg Reward: -25.525 \t Obj(Actor): 0.091 \t Loss(Critic): 0.000\n"
     ]
    },
    {
     "name": "stderr",
     "output_type": "stream",
     "text": [
      " 24%|██▍       | 24402/100000 [55:22<2:51:16,  7.36it/s]"
     ]
    },
    {
     "name": "stdout",
     "output_type": "stream",
     "text": [
      "Num steps: 24400 \t Avg Reward: -11.672 \t Obj(Actor): 0.094 \t Loss(Critic): 0.009\n"
     ]
    },
    {
     "name": "stderr",
     "output_type": "stream",
     "text": [
      " 25%|██▍       | 24602/100000 [55:48<2:56:41,  7.11it/s]"
     ]
    },
    {
     "name": "stdout",
     "output_type": "stream",
     "text": [
      "Num steps: 24600 \t Avg Reward: -13.560 \t Obj(Actor): 0.079 \t Loss(Critic): 0.001\n"
     ]
    },
    {
     "name": "stderr",
     "output_type": "stream",
     "text": [
      " 25%|██▍       | 24802/100000 [56:13<2:56:38,  7.09it/s]"
     ]
    },
    {
     "name": "stdout",
     "output_type": "stream",
     "text": [
      "Num steps: 24800 \t Avg Reward: -18.410 \t Obj(Actor): 0.088 \t Loss(Critic): 0.007\n"
     ]
    },
    {
     "name": "stderr",
     "output_type": "stream",
     "text": [
      " 25%|██▌       | 25002/100000 [56:39<2:56:41,  7.07it/s]"
     ]
    },
    {
     "name": "stdout",
     "output_type": "stream",
     "text": [
      "Num steps: 25000 \t Avg Reward: -25.711 \t Obj(Actor): 0.085 \t Loss(Critic): 0.035\n"
     ]
    },
    {
     "name": "stderr",
     "output_type": "stream",
     "text": [
      " 25%|██▌       | 25202/100000 [57:04<2:39:11,  7.83it/s]"
     ]
    },
    {
     "name": "stdout",
     "output_type": "stream",
     "text": [
      "Num steps: 25200 \t Avg Reward: -0.006 \t Obj(Actor): 0.098 \t Loss(Critic): 0.000\n"
     ]
    },
    {
     "name": "stderr",
     "output_type": "stream",
     "text": [
      " 25%|██▌       | 25402/100000 [57:30<2:53:50,  7.15it/s]"
     ]
    },
    {
     "name": "stdout",
     "output_type": "stream",
     "text": [
      "Num steps: 25400 \t Avg Reward: -25.673 \t Obj(Actor): 0.100 \t Loss(Critic): 0.009\n"
     ]
    },
    {
     "name": "stderr",
     "output_type": "stream",
     "text": [
      " 26%|██▌       | 25602/100000 [57:56<2:54:18,  7.11it/s]"
     ]
    },
    {
     "name": "stdout",
     "output_type": "stream",
     "text": [
      "Num steps: 25600 \t Avg Reward: -23.803 \t Obj(Actor): 0.092 \t Loss(Critic): 0.002\n"
     ]
    },
    {
     "name": "stderr",
     "output_type": "stream",
     "text": [
      " 26%|██▌       | 25802/100000 [58:21<2:54:51,  7.07it/s]"
     ]
    },
    {
     "name": "stdout",
     "output_type": "stream",
     "text": [
      "Num steps: 25800 \t Avg Reward: -21.148 \t Obj(Actor): 0.097 \t Loss(Critic): 0.000\n"
     ]
    },
    {
     "name": "stderr",
     "output_type": "stream",
     "text": [
      " 26%|██▌       | 26002/100000 [58:47<2:59:52,  6.86it/s]"
     ]
    },
    {
     "name": "stdout",
     "output_type": "stream",
     "text": [
      "Num steps: 26000 \t Avg Reward: -26.279 \t Obj(Actor): 0.087 \t Loss(Critic): 0.002\n"
     ]
    },
    {
     "name": "stderr",
     "output_type": "stream",
     "text": [
      " 26%|██▌       | 26202/100000 [59:12<2:46:15,  7.40it/s]"
     ]
    },
    {
     "name": "stdout",
     "output_type": "stream",
     "text": [
      "Num steps: 26200 \t Avg Reward: -21.946 \t Obj(Actor): 0.088 \t Loss(Critic): 0.004\n"
     ]
    },
    {
     "name": "stderr",
     "output_type": "stream",
     "text": [
      " 26%|██▋       | 26402/100000 [59:38<2:52:18,  7.12it/s]"
     ]
    },
    {
     "name": "stdout",
     "output_type": "stream",
     "text": [
      "Num steps: 26400 \t Avg Reward: -27.718 \t Obj(Actor): 0.101 \t Loss(Critic): 0.013\n"
     ]
    },
    {
     "name": "stderr",
     "output_type": "stream",
     "text": [
      " 27%|██▋       | 26602/100000 [1:00:03<2:36:03,  7.84it/s]"
     ]
    },
    {
     "name": "stdout",
     "output_type": "stream",
     "text": [
      "Num steps: 26600 \t Avg Reward: -0.005 \t Obj(Actor): 0.066 \t Loss(Critic): 0.026\n"
     ]
    },
    {
     "name": "stderr",
     "output_type": "stream",
     "text": [
      " 27%|██▋       | 26802/100000 [1:00:29<2:50:47,  7.14it/s]"
     ]
    },
    {
     "name": "stdout",
     "output_type": "stream",
     "text": [
      "Num steps: 26800 \t Avg Reward: -23.106 \t Obj(Actor): 0.092 \t Loss(Critic): 0.020\n"
     ]
    },
    {
     "name": "stderr",
     "output_type": "stream",
     "text": [
      " 27%|██▋       | 27002/100000 [1:00:54<2:50:12,  7.15it/s]"
     ]
    },
    {
     "name": "stdout",
     "output_type": "stream",
     "text": [
      "Num steps: 27000 \t Avg Reward: -22.777 \t Obj(Actor): 0.101 \t Loss(Critic): 0.060\n"
     ]
    },
    {
     "name": "stderr",
     "output_type": "stream",
     "text": [
      " 27%|██▋       | 27202/100000 [1:01:20<2:50:13,  7.13it/s]"
     ]
    },
    {
     "name": "stdout",
     "output_type": "stream",
     "text": [
      "Num steps: 27200 \t Avg Reward: -23.826 \t Obj(Actor): 0.103 \t Loss(Critic): 0.000\n"
     ]
    },
    {
     "name": "stderr",
     "output_type": "stream",
     "text": [
      " 27%|██▋       | 27402/100000 [1:01:45<2:42:06,  7.46it/s]"
     ]
    },
    {
     "name": "stdout",
     "output_type": "stream",
     "text": [
      "Num steps: 27400 \t Avg Reward: -13.733 \t Obj(Actor): 0.089 \t Loss(Critic): 0.012\n"
     ]
    },
    {
     "name": "stderr",
     "output_type": "stream",
     "text": [
      " 28%|██▊       | 27602/100000 [1:02:11<3:01:05,  6.66it/s]"
     ]
    },
    {
     "name": "stdout",
     "output_type": "stream",
     "text": [
      "Num steps: 27600 \t Avg Reward: -22.251 \t Obj(Actor): 0.086 \t Loss(Critic): 0.000\n"
     ]
    },
    {
     "name": "stderr",
     "output_type": "stream",
     "text": [
      " 28%|██▊       | 27802/100000 [1:02:36<2:49:10,  7.11it/s]"
     ]
    },
    {
     "name": "stdout",
     "output_type": "stream",
     "text": [
      "Num steps: 27800 \t Avg Reward: -23.158 \t Obj(Actor): 0.087 \t Loss(Critic): 0.000\n"
     ]
    },
    {
     "name": "stderr",
     "output_type": "stream",
     "text": [
      " 28%|██▊       | 28002/100000 [1:03:02<2:51:49,  6.98it/s]"
     ]
    },
    {
     "name": "stdout",
     "output_type": "stream",
     "text": [
      "Num steps: 28000 \t Avg Reward: -23.936 \t Obj(Actor): 0.081 \t Loss(Critic): 0.018\n"
     ]
    },
    {
     "name": "stderr",
     "output_type": "stream",
     "text": [
      " 28%|██▊       | 28202/100000 [1:03:28<2:32:39,  7.84it/s]"
     ]
    },
    {
     "name": "stdout",
     "output_type": "stream",
     "text": [
      "Num steps: 28200 \t Avg Reward: -0.009 \t Obj(Actor): 0.087 \t Loss(Critic): 0.020\n"
     ]
    },
    {
     "name": "stderr",
     "output_type": "stream",
     "text": [
      " 28%|██▊       | 28402/100000 [1:03:53<2:47:14,  7.14it/s]"
     ]
    },
    {
     "name": "stdout",
     "output_type": "stream",
     "text": [
      "Num steps: 28400 \t Avg Reward: -27.125 \t Obj(Actor): 0.092 \t Loss(Critic): 0.000\n"
     ]
    },
    {
     "name": "stderr",
     "output_type": "stream",
     "text": [
      " 29%|██▊       | 28602/100000 [1:04:19<2:47:46,  7.09it/s]"
     ]
    },
    {
     "name": "stdout",
     "output_type": "stream",
     "text": [
      "Num steps: 28600 \t Avg Reward: -24.147 \t Obj(Actor): 0.099 \t Loss(Critic): 0.000\n"
     ]
    },
    {
     "name": "stderr",
     "output_type": "stream",
     "text": [
      " 29%|██▉       | 28802/100000 [1:04:44<2:31:04,  7.85it/s]"
     ]
    },
    {
     "name": "stdout",
     "output_type": "stream",
     "text": [
      "Num steps: 28800 \t Avg Reward: -0.005 \t Obj(Actor): 0.094 \t Loss(Critic): 0.001\n"
     ]
    },
    {
     "name": "stderr",
     "output_type": "stream",
     "text": [
      " 29%|██▉       | 29002/100000 [1:05:10<2:45:10,  7.16it/s]"
     ]
    },
    {
     "name": "stdout",
     "output_type": "stream",
     "text": [
      "Num steps: 29000 \t Avg Reward: -20.799 \t Obj(Actor): 0.094 \t Loss(Critic): 0.034\n"
     ]
    },
    {
     "name": "stderr",
     "output_type": "stream",
     "text": [
      " 29%|██▉       | 29202/100000 [1:05:35<2:43:48,  7.20it/s]"
     ]
    },
    {
     "name": "stdout",
     "output_type": "stream",
     "text": [
      "Num steps: 29200 \t Avg Reward: -25.779 \t Obj(Actor): 0.095 \t Loss(Critic): 0.000\n"
     ]
    },
    {
     "name": "stderr",
     "output_type": "stream",
     "text": [
      " 29%|██▉       | 29402/100000 [1:06:00<2:45:40,  7.10it/s]"
     ]
    },
    {
     "name": "stdout",
     "output_type": "stream",
     "text": [
      "Num steps: 29400 \t Avg Reward: -23.904 \t Obj(Actor): 0.088 \t Loss(Critic): 0.007\n"
     ]
    },
    {
     "name": "stderr",
     "output_type": "stream",
     "text": [
      " 30%|██▉       | 29602/100000 [1:06:26<2:41:32,  7.26it/s]"
     ]
    },
    {
     "name": "stdout",
     "output_type": "stream",
     "text": [
      "Num steps: 29600 \t Avg Reward: -18.925 \t Obj(Actor): 0.093 \t Loss(Critic): 0.042\n"
     ]
    },
    {
     "name": "stderr",
     "output_type": "stream",
     "text": [
      " 30%|██▉       | 29802/100000 [1:06:52<2:47:57,  6.97it/s]"
     ]
    },
    {
     "name": "stdout",
     "output_type": "stream",
     "text": [
      "Num steps: 29800 \t Avg Reward: -20.630 \t Obj(Actor): 0.093 \t Loss(Critic): 0.004\n"
     ]
    },
    {
     "name": "stderr",
     "output_type": "stream",
     "text": [
      " 30%|███       | 30002/100000 [1:07:17<2:45:20,  7.06it/s]"
     ]
    },
    {
     "name": "stdout",
     "output_type": "stream",
     "text": [
      "Num steps: 30000 \t Avg Reward: -18.106 \t Obj(Actor): 0.085 \t Loss(Critic): 0.019\n"
     ]
    },
    {
     "name": "stderr",
     "output_type": "stream",
     "text": [
      " 30%|███       | 30202/100000 [1:07:43<2:42:04,  7.18it/s]"
     ]
    },
    {
     "name": "stdout",
     "output_type": "stream",
     "text": [
      "Num steps: 30200 \t Avg Reward: -27.936 \t Obj(Actor): 0.089 \t Loss(Critic): 0.000\n"
     ]
    },
    {
     "name": "stderr",
     "output_type": "stream",
     "text": [
      " 30%|███       | 30402/100000 [1:08:09<2:37:42,  7.35it/s]"
     ]
    },
    {
     "name": "stdout",
     "output_type": "stream",
     "text": [
      "Num steps: 30400 \t Avg Reward: -13.207 \t Obj(Actor): 0.092 \t Loss(Critic): 0.005\n"
     ]
    },
    {
     "name": "stderr",
     "output_type": "stream",
     "text": [
      " 31%|███       | 30602/100000 [1:08:34<2:44:11,  7.04it/s]"
     ]
    },
    {
     "name": "stdout",
     "output_type": "stream",
     "text": [
      "Num steps: 30600 \t Avg Reward: -20.719 \t Obj(Actor): 0.073 \t Loss(Critic): 0.001\n"
     ]
    },
    {
     "name": "stderr",
     "output_type": "stream",
     "text": [
      " 31%|███       | 30802/100000 [1:09:00<2:39:37,  7.23it/s]"
     ]
    },
    {
     "name": "stdout",
     "output_type": "stream",
     "text": [
      "Num steps: 30800 \t Avg Reward: -22.895 \t Obj(Actor): 0.091 \t Loss(Critic): 0.007\n"
     ]
    },
    {
     "name": "stderr",
     "output_type": "stream",
     "text": [
      " 31%|███       | 31002/100000 [1:09:26<2:40:44,  7.15it/s]"
     ]
    },
    {
     "name": "stdout",
     "output_type": "stream",
     "text": [
      "Num steps: 31000 \t Avg Reward: -18.672 \t Obj(Actor): 0.084 \t Loss(Critic): 0.014\n"
     ]
    },
    {
     "name": "stderr",
     "output_type": "stream",
     "text": [
      " 31%|███       | 31202/100000 [1:09:51<2:34:19,  7.43it/s]"
     ]
    },
    {
     "name": "stdout",
     "output_type": "stream",
     "text": [
      "Num steps: 31200 \t Avg Reward: -12.216 \t Obj(Actor): 0.086 \t Loss(Critic): 0.000\n"
     ]
    },
    {
     "name": "stderr",
     "output_type": "stream",
     "text": [
      " 31%|███▏      | 31402/100000 [1:10:17<2:36:34,  7.30it/s]"
     ]
    },
    {
     "name": "stdout",
     "output_type": "stream",
     "text": [
      "Num steps: 31400 \t Avg Reward: -12.667 \t Obj(Actor): 0.075 \t Loss(Critic): 0.005\n"
     ]
    },
    {
     "name": "stderr",
     "output_type": "stream",
     "text": [
      " 32%|███▏      | 31602/100000 [1:10:43<2:41:33,  7.06it/s]"
     ]
    },
    {
     "name": "stdout",
     "output_type": "stream",
     "text": [
      "Num steps: 31600 \t Avg Reward: -19.119 \t Obj(Actor): 0.075 \t Loss(Critic): 0.002\n"
     ]
    },
    {
     "name": "stderr",
     "output_type": "stream",
     "text": [
      " 32%|███▏      | 31802/100000 [1:11:08<2:39:23,  7.13it/s]"
     ]
    },
    {
     "name": "stdout",
     "output_type": "stream",
     "text": [
      "Num steps: 31800 \t Avg Reward: -26.218 \t Obj(Actor): 0.089 \t Loss(Critic): 0.019\n"
     ]
    },
    {
     "name": "stderr",
     "output_type": "stream",
     "text": [
      " 32%|███▏      | 32002/100000 [1:11:34<2:40:39,  7.05it/s]"
     ]
    },
    {
     "name": "stdout",
     "output_type": "stream",
     "text": [
      "Num steps: 32000 \t Avg Reward: -22.775 \t Obj(Actor): 0.094 \t Loss(Critic): 0.001\n"
     ]
    },
    {
     "name": "stderr",
     "output_type": "stream",
     "text": [
      " 32%|███▏      | 32202/100000 [1:11:59<2:39:13,  7.10it/s]"
     ]
    },
    {
     "name": "stdout",
     "output_type": "stream",
     "text": [
      "Num steps: 32200 \t Avg Reward: -26.180 \t Obj(Actor): 0.099 \t Loss(Critic): 0.009\n"
     ]
    },
    {
     "name": "stderr",
     "output_type": "stream",
     "text": [
      " 32%|███▏      | 32402/100000 [1:12:25<2:47:28,  6.73it/s]"
     ]
    },
    {
     "name": "stdout",
     "output_type": "stream",
     "text": [
      "Num steps: 32400 \t Avg Reward: -18.258 \t Obj(Actor): 0.077 \t Loss(Critic): 0.000\n"
     ]
    },
    {
     "name": "stderr",
     "output_type": "stream",
     "text": [
      " 33%|███▎      | 32602/100000 [1:12:51<2:35:03,  7.24it/s]"
     ]
    },
    {
     "name": "stdout",
     "output_type": "stream",
     "text": [
      "Num steps: 32600 \t Avg Reward: -23.619 \t Obj(Actor): 0.081 \t Loss(Critic): 0.003\n"
     ]
    },
    {
     "name": "stderr",
     "output_type": "stream",
     "text": [
      " 33%|███▎      | 32802/100000 [1:13:16<2:37:28,  7.11it/s]"
     ]
    },
    {
     "name": "stdout",
     "output_type": "stream",
     "text": [
      "Num steps: 32800 \t Avg Reward: -22.983 \t Obj(Actor): 0.093 \t Loss(Critic): 0.158\n"
     ]
    },
    {
     "name": "stderr",
     "output_type": "stream",
     "text": [
      " 33%|███▎      | 33002/100000 [1:13:42<2:34:59,  7.20it/s]"
     ]
    },
    {
     "name": "stdout",
     "output_type": "stream",
     "text": [
      "Num steps: 33000 \t Avg Reward: -27.733 \t Obj(Actor): 0.090 \t Loss(Critic): 0.001\n"
     ]
    },
    {
     "name": "stderr",
     "output_type": "stream",
     "text": [
      " 33%|███▎      | 33202/100000 [1:14:07<2:37:49,  7.05it/s]"
     ]
    },
    {
     "name": "stdout",
     "output_type": "stream",
     "text": [
      "Num steps: 33200 \t Avg Reward: -26.785 \t Obj(Actor): 0.078 \t Loss(Critic): 0.005\n"
     ]
    },
    {
     "name": "stderr",
     "output_type": "stream",
     "text": [
      " 33%|███▎      | 33402/100000 [1:14:33<2:41:00,  6.89it/s]"
     ]
    },
    {
     "name": "stdout",
     "output_type": "stream",
     "text": [
      "Num steps: 33400 \t Avg Reward: -13.686 \t Obj(Actor): 0.084 \t Loss(Critic): 0.031\n"
     ]
    },
    {
     "name": "stderr",
     "output_type": "stream",
     "text": [
      " 34%|███▎      | 33602/100000 [1:14:59<2:27:14,  7.52it/s]"
     ]
    },
    {
     "name": "stdout",
     "output_type": "stream",
     "text": [
      "Num steps: 33600 \t Avg Reward: -13.548 \t Obj(Actor): 0.078 \t Loss(Critic): 0.002\n"
     ]
    },
    {
     "name": "stderr",
     "output_type": "stream",
     "text": [
      " 34%|███▍      | 33802/100000 [1:15:25<2:33:04,  7.21it/s]"
     ]
    },
    {
     "name": "stdout",
     "output_type": "stream",
     "text": [
      "Num steps: 33800 \t Avg Reward: -26.401 \t Obj(Actor): 0.080 \t Loss(Critic): 0.000\n"
     ]
    },
    {
     "name": "stderr",
     "output_type": "stream",
     "text": [
      " 34%|███▍      | 34002/100000 [1:15:52<3:45:32,  4.88it/s]"
     ]
    },
    {
     "name": "stdout",
     "output_type": "stream",
     "text": [
      "Num steps: 34000 \t Avg Reward: -22.560 \t Obj(Actor): 0.074 \t Loss(Critic): 0.014\n"
     ]
    },
    {
     "name": "stderr",
     "output_type": "stream",
     "text": [
      " 34%|███▍      | 34202/100000 [1:16:18<2:39:00,  6.90it/s]"
     ]
    },
    {
     "name": "stdout",
     "output_type": "stream",
     "text": [
      "Num steps: 34200 \t Avg Reward: -22.630 \t Obj(Actor): 0.085 \t Loss(Critic): 0.007\n"
     ]
    },
    {
     "name": "stderr",
     "output_type": "stream",
     "text": [
      " 34%|███▍      | 34402/100000 [1:16:43<2:33:19,  7.13it/s]"
     ]
    },
    {
     "name": "stdout",
     "output_type": "stream",
     "text": [
      "Num steps: 34400 \t Avg Reward: -23.053 \t Obj(Actor): 0.084 \t Loss(Critic): 0.003\n"
     ]
    },
    {
     "name": "stderr",
     "output_type": "stream",
     "text": [
      " 35%|███▍      | 34602/100000 [1:17:09<2:34:09,  7.07it/s]"
     ]
    },
    {
     "name": "stdout",
     "output_type": "stream",
     "text": [
      "Num steps: 34600 \t Avg Reward: -23.445 \t Obj(Actor): 0.085 \t Loss(Critic): 0.000\n"
     ]
    },
    {
     "name": "stderr",
     "output_type": "stream",
     "text": [
      " 35%|███▍      | 34802/100000 [1:17:35<2:31:46,  7.16it/s]"
     ]
    },
    {
     "name": "stdout",
     "output_type": "stream",
     "text": [
      "Num steps: 34800 \t Avg Reward: -19.775 \t Obj(Actor): 0.092 \t Loss(Critic): 0.013\n"
     ]
    },
    {
     "name": "stderr",
     "output_type": "stream",
     "text": [
      " 35%|███▌      | 35002/100000 [1:18:00<2:32:24,  7.11it/s]"
     ]
    },
    {
     "name": "stdout",
     "output_type": "stream",
     "text": [
      "Num steps: 35000 \t Avg Reward: -28.048 \t Obj(Actor): 0.070 \t Loss(Critic): 0.002\n"
     ]
    },
    {
     "name": "stderr",
     "output_type": "stream",
     "text": [
      " 35%|███▌      | 35202/100000 [1:18:26<2:25:55,  7.40it/s]"
     ]
    },
    {
     "name": "stdout",
     "output_type": "stream",
     "text": [
      "Num steps: 35200 \t Avg Reward: -13.683 \t Obj(Actor): 0.099 \t Loss(Critic): 0.003\n"
     ]
    },
    {
     "name": "stderr",
     "output_type": "stream",
     "text": [
      " 35%|███▌      | 35402/100000 [1:18:51<2:35:46,  6.91it/s]"
     ]
    },
    {
     "name": "stdout",
     "output_type": "stream",
     "text": [
      "Num steps: 35400 \t Avg Reward: -25.140 \t Obj(Actor): 0.095 \t Loss(Critic): 0.004\n"
     ]
    },
    {
     "name": "stderr",
     "output_type": "stream",
     "text": [
      " 36%|███▌      | 35602/100000 [1:19:17<2:32:57,  7.02it/s]"
     ]
    },
    {
     "name": "stdout",
     "output_type": "stream",
     "text": [
      "Num steps: 35600 \t Avg Reward: -23.824 \t Obj(Actor): 0.087 \t Loss(Critic): 0.020\n"
     ]
    },
    {
     "name": "stderr",
     "output_type": "stream",
     "text": [
      " 36%|███▌      | 35802/100000 [1:19:43<2:31:38,  7.06it/s]"
     ]
    },
    {
     "name": "stdout",
     "output_type": "stream",
     "text": [
      "Num steps: 35800 \t Avg Reward: -24.025 \t Obj(Actor): 0.101 \t Loss(Critic): 0.003\n"
     ]
    },
    {
     "name": "stderr",
     "output_type": "stream",
     "text": [
      " 36%|███▌      | 36002/100000 [1:20:08<2:29:47,  7.12it/s]"
     ]
    },
    {
     "name": "stdout",
     "output_type": "stream",
     "text": [
      "Num steps: 36000 \t Avg Reward: -18.100 \t Obj(Actor): 0.089 \t Loss(Critic): 0.002\n"
     ]
    },
    {
     "name": "stderr",
     "output_type": "stream",
     "text": [
      " 36%|███▌      | 36202/100000 [1:20:34<2:26:43,  7.25it/s]"
     ]
    },
    {
     "name": "stdout",
     "output_type": "stream",
     "text": [
      "Num steps: 36200 \t Avg Reward: -13.091 \t Obj(Actor): 0.094 \t Loss(Critic): 0.006\n"
     ]
    },
    {
     "name": "stderr",
     "output_type": "stream",
     "text": [
      " 36%|███▋      | 36402/100000 [1:21:00<2:28:51,  7.12it/s]"
     ]
    },
    {
     "name": "stdout",
     "output_type": "stream",
     "text": [
      "Num steps: 36400 \t Avg Reward: -24.247 \t Obj(Actor): 0.088 \t Loss(Critic): 0.000\n"
     ]
    },
    {
     "name": "stderr",
     "output_type": "stream",
     "text": [
      " 37%|███▋      | 36602/100000 [1:21:25<2:31:24,  6.98it/s]"
     ]
    },
    {
     "name": "stdout",
     "output_type": "stream",
     "text": [
      "Num steps: 36600 \t Avg Reward: -25.077 \t Obj(Actor): 0.092 \t Loss(Critic): 0.079\n"
     ]
    },
    {
     "name": "stderr",
     "output_type": "stream",
     "text": [
      " 37%|███▋      | 36802/100000 [1:21:51<2:29:59,  7.02it/s]"
     ]
    },
    {
     "name": "stdout",
     "output_type": "stream",
     "text": [
      "Num steps: 36800 \t Avg Reward: -20.920 \t Obj(Actor): 0.092 \t Loss(Critic): 0.009\n"
     ]
    },
    {
     "name": "stderr",
     "output_type": "stream",
     "text": [
      " 37%|███▋      | 37002/100000 [1:22:17<2:29:02,  7.05it/s]"
     ]
    },
    {
     "name": "stdout",
     "output_type": "stream",
     "text": [
      "Num steps: 37000 \t Avg Reward: -17.651 \t Obj(Actor): 0.090 \t Loss(Critic): 0.003\n"
     ]
    },
    {
     "name": "stderr",
     "output_type": "stream",
     "text": [
      " 37%|███▋      | 37202/100000 [1:22:42<2:28:14,  7.06it/s]"
     ]
    },
    {
     "name": "stdout",
     "output_type": "stream",
     "text": [
      "Num steps: 37200 \t Avg Reward: -26.259 \t Obj(Actor): 0.095 \t Loss(Critic): 0.000\n"
     ]
    },
    {
     "name": "stderr",
     "output_type": "stream",
     "text": [
      " 37%|███▋      | 37402/100000 [1:23:08<2:22:11,  7.34it/s]"
     ]
    },
    {
     "name": "stdout",
     "output_type": "stream",
     "text": [
      "Num steps: 37400 \t Avg Reward: -11.685 \t Obj(Actor): 0.088 \t Loss(Critic): 0.003\n"
     ]
    },
    {
     "name": "stderr",
     "output_type": "stream",
     "text": [
      " 38%|███▊      | 37602/100000 [1:23:34<2:31:28,  6.87it/s]"
     ]
    },
    {
     "name": "stdout",
     "output_type": "stream",
     "text": [
      "Num steps: 37600 \t Avg Reward: -19.572 \t Obj(Actor): 0.101 \t Loss(Critic): 0.003\n"
     ]
    },
    {
     "name": "stderr",
     "output_type": "stream",
     "text": [
      " 38%|███▊      | 37802/100000 [1:24:00<2:29:53,  6.92it/s]"
     ]
    },
    {
     "name": "stdout",
     "output_type": "stream",
     "text": [
      "Num steps: 37800 \t Avg Reward: -22.696 \t Obj(Actor): 0.078 \t Loss(Critic): 0.002\n"
     ]
    },
    {
     "name": "stderr",
     "output_type": "stream",
     "text": [
      " 38%|███▊      | 38002/100000 [1:24:26<2:30:32,  6.86it/s]"
     ]
    },
    {
     "name": "stdout",
     "output_type": "stream",
     "text": [
      "Num steps: 38000 \t Avg Reward: -21.935 \t Obj(Actor): 0.094 \t Loss(Critic): 0.015\n"
     ]
    },
    {
     "name": "stderr",
     "output_type": "stream",
     "text": [
      " 38%|███▊      | 38202/100000 [1:24:52<2:24:14,  7.14it/s]"
     ]
    },
    {
     "name": "stdout",
     "output_type": "stream",
     "text": [
      "Num steps: 38200 \t Avg Reward: -21.721 \t Obj(Actor): 0.082 \t Loss(Critic): 0.002\n"
     ]
    },
    {
     "name": "stderr",
     "output_type": "stream",
     "text": [
      " 38%|███▊      | 38402/100000 [1:25:17<2:19:51,  7.34it/s]"
     ]
    },
    {
     "name": "stdout",
     "output_type": "stream",
     "text": [
      "Num steps: 38400 \t Avg Reward: -10.933 \t Obj(Actor): 0.091 \t Loss(Critic): 0.001\n"
     ]
    },
    {
     "name": "stderr",
     "output_type": "stream",
     "text": [
      " 39%|███▊      | 38602/100000 [1:25:43<2:21:55,  7.21it/s]"
     ]
    },
    {
     "name": "stdout",
     "output_type": "stream",
     "text": [
      "Num steps: 38600 \t Avg Reward: -25.291 \t Obj(Actor): 0.097 \t Loss(Critic): 0.000\n"
     ]
    },
    {
     "name": "stderr",
     "output_type": "stream",
     "text": [
      " 39%|███▉      | 38802/100000 [1:26:09<2:33:05,  6.66it/s]"
     ]
    },
    {
     "name": "stdout",
     "output_type": "stream",
     "text": [
      "Num steps: 38800 \t Avg Reward: -12.294 \t Obj(Actor): 0.091 \t Loss(Critic): 0.000\n"
     ]
    },
    {
     "name": "stderr",
     "output_type": "stream",
     "text": [
      " 39%|███▉      | 39002/100000 [1:26:34<2:19:05,  7.31it/s]"
     ]
    },
    {
     "name": "stdout",
     "output_type": "stream",
     "text": [
      "Num steps: 39000 \t Avg Reward: -12.179 \t Obj(Actor): 0.081 \t Loss(Critic): 0.002\n"
     ]
    },
    {
     "name": "stderr",
     "output_type": "stream",
     "text": [
      " 39%|███▉      | 39202/100000 [1:27:00<2:22:15,  7.12it/s]"
     ]
    },
    {
     "name": "stdout",
     "output_type": "stream",
     "text": [
      "Num steps: 39200 \t Avg Reward: -25.594 \t Obj(Actor): 0.081 \t Loss(Critic): 0.012\n"
     ]
    },
    {
     "name": "stderr",
     "output_type": "stream",
     "text": [
      " 39%|███▉      | 39402/100000 [1:27:25<2:19:54,  7.22it/s]"
     ]
    },
    {
     "name": "stdout",
     "output_type": "stream",
     "text": [
      "Num steps: 39400 \t Avg Reward: -18.107 \t Obj(Actor): 0.096 \t Loss(Critic): 0.000\n"
     ]
    },
    {
     "name": "stderr",
     "output_type": "stream",
     "text": [
      " 40%|███▉      | 39602/100000 [1:27:51<2:20:20,  7.17it/s]"
     ]
    },
    {
     "name": "stdout",
     "output_type": "stream",
     "text": [
      "Num steps: 39600 \t Avg Reward: -21.728 \t Obj(Actor): 0.073 \t Loss(Critic): 0.000\n"
     ]
    },
    {
     "name": "stderr",
     "output_type": "stream",
     "text": [
      " 40%|███▉      | 39802/100000 [1:28:17<2:23:03,  7.01it/s]"
     ]
    },
    {
     "name": "stdout",
     "output_type": "stream",
     "text": [
      "Num steps: 39800 \t Avg Reward: -25.719 \t Obj(Actor): 0.086 \t Loss(Critic): 0.002\n"
     ]
    },
    {
     "name": "stderr",
     "output_type": "stream",
     "text": [
      " 40%|████      | 40002/100000 [1:28:42<2:19:32,  7.17it/s]"
     ]
    },
    {
     "name": "stdout",
     "output_type": "stream",
     "text": [
      "Num steps: 40000 \t Avg Reward: -28.024 \t Obj(Actor): 0.081 \t Loss(Critic): 0.002\n"
     ]
    },
    {
     "name": "stderr",
     "output_type": "stream",
     "text": [
      " 40%|████      | 40202/100000 [1:29:08<2:20:42,  7.08it/s]"
     ]
    },
    {
     "name": "stdout",
     "output_type": "stream",
     "text": [
      "Num steps: 40200 \t Avg Reward: -25.540 \t Obj(Actor): 0.078 \t Loss(Critic): 0.009\n"
     ]
    },
    {
     "name": "stderr",
     "output_type": "stream",
     "text": [
      " 40%|████      | 40402/100000 [1:29:33<2:19:29,  7.12it/s]"
     ]
    },
    {
     "name": "stdout",
     "output_type": "stream",
     "text": [
      "Num steps: 40400 \t Avg Reward: -28.021 \t Obj(Actor): 0.082 \t Loss(Critic): 0.012\n"
     ]
    },
    {
     "name": "stderr",
     "output_type": "stream",
     "text": [
      " 41%|████      | 40602/100000 [1:29:59<2:20:02,  7.07it/s]"
     ]
    },
    {
     "name": "stdout",
     "output_type": "stream",
     "text": [
      "Num steps: 40600 \t Avg Reward: -24.332 \t Obj(Actor): 0.085 \t Loss(Critic): 0.026\n"
     ]
    },
    {
     "name": "stderr",
     "output_type": "stream",
     "text": [
      " 41%|████      | 40802/100000 [1:30:25<2:18:08,  7.14it/s]"
     ]
    },
    {
     "name": "stdout",
     "output_type": "stream",
     "text": [
      "Num steps: 40800 \t Avg Reward: -12.279 \t Obj(Actor): 0.091 \t Loss(Critic): 0.009\n"
     ]
    },
    {
     "name": "stderr",
     "output_type": "stream",
     "text": [
      " 41%|████      | 41002/100000 [1:30:50<2:18:11,  7.12it/s]"
     ]
    },
    {
     "name": "stdout",
     "output_type": "stream",
     "text": [
      "Num steps: 41000 \t Avg Reward: -23.437 \t Obj(Actor): 0.093 \t Loss(Critic): 0.009\n"
     ]
    },
    {
     "name": "stderr",
     "output_type": "stream",
     "text": [
      " 41%|████      | 41202/100000 [1:31:16<2:19:26,  7.03it/s]"
     ]
    },
    {
     "name": "stdout",
     "output_type": "stream",
     "text": [
      "Num steps: 41200 \t Avg Reward: -23.082 \t Obj(Actor): 0.085 \t Loss(Critic): 0.001\n"
     ]
    },
    {
     "name": "stderr",
     "output_type": "stream",
     "text": [
      " 41%|████▏     | 41402/100000 [1:31:42<2:16:52,  7.14it/s]"
     ]
    },
    {
     "name": "stdout",
     "output_type": "stream",
     "text": [
      "Num steps: 41400 \t Avg Reward: -12.163 \t Obj(Actor): 0.081 \t Loss(Critic): 0.010\n"
     ]
    },
    {
     "name": "stderr",
     "output_type": "stream",
     "text": [
      " 42%|████▏     | 41602/100000 [1:32:07<2:17:08,  7.10it/s]"
     ]
    },
    {
     "name": "stdout",
     "output_type": "stream",
     "text": [
      "Num steps: 41600 \t Avg Reward: -26.703 \t Obj(Actor): 0.081 \t Loss(Critic): 0.005\n"
     ]
    },
    {
     "name": "stderr",
     "output_type": "stream",
     "text": [
      " 42%|████▏     | 41802/100000 [1:32:33<2:15:48,  7.14it/s]"
     ]
    },
    {
     "name": "stdout",
     "output_type": "stream",
     "text": [
      "Num steps: 41800 \t Avg Reward: -27.976 \t Obj(Actor): 0.085 \t Loss(Critic): 0.000\n"
     ]
    },
    {
     "name": "stderr",
     "output_type": "stream",
     "text": [
      " 42%|████▏     | 42002/100000 [1:32:59<2:10:14,  7.42it/s]"
     ]
    },
    {
     "name": "stdout",
     "output_type": "stream",
     "text": [
      "Num steps: 42000 \t Avg Reward: -14.171 \t Obj(Actor): 0.082 \t Loss(Critic): 0.020\n"
     ]
    },
    {
     "name": "stderr",
     "output_type": "stream",
     "text": [
      " 42%|████▏     | 42202/100000 [1:33:24<2:16:50,  7.04it/s]"
     ]
    },
    {
     "name": "stdout",
     "output_type": "stream",
     "text": [
      "Num steps: 42200 \t Avg Reward: -19.989 \t Obj(Actor): 0.090 \t Loss(Critic): 0.010\n"
     ]
    },
    {
     "name": "stderr",
     "output_type": "stream",
     "text": [
      " 42%|████▏     | 42402/100000 [1:33:50<2:16:21,  7.04it/s]"
     ]
    },
    {
     "name": "stdout",
     "output_type": "stream",
     "text": [
      "Num steps: 42400 \t Avg Reward: -22.705 \t Obj(Actor): 0.082 \t Loss(Critic): 0.002\n"
     ]
    },
    {
     "name": "stderr",
     "output_type": "stream",
     "text": [
      " 43%|████▎     | 42602/100000 [1:34:16<2:15:23,  7.07it/s]"
     ]
    },
    {
     "name": "stdout",
     "output_type": "stream",
     "text": [
      "Num steps: 42600 \t Avg Reward: -28.020 \t Obj(Actor): 0.084 \t Loss(Critic): 0.028\n"
     ]
    },
    {
     "name": "stderr",
     "output_type": "stream",
     "text": [
      " 43%|████▎     | 42802/100000 [1:34:41<2:15:52,  7.02it/s]"
     ]
    },
    {
     "name": "stdout",
     "output_type": "stream",
     "text": [
      "Num steps: 42800 \t Avg Reward: -21.718 \t Obj(Actor): 0.084 \t Loss(Critic): 0.000\n"
     ]
    },
    {
     "name": "stderr",
     "output_type": "stream",
     "text": [
      " 43%|████▎     | 43002/100000 [1:35:07<2:55:06,  5.42it/s]"
     ]
    },
    {
     "name": "stdout",
     "output_type": "stream",
     "text": [
      "Num steps: 43000 \t Avg Reward: -20.632 \t Obj(Actor): 0.088 \t Loss(Critic): 0.001\n"
     ]
    },
    {
     "name": "stderr",
     "output_type": "stream",
     "text": [
      " 43%|████▎     | 43202/100000 [1:35:34<2:06:00,  7.51it/s]"
     ]
    },
    {
     "name": "stdout",
     "output_type": "stream",
     "text": [
      "Num steps: 43200 \t Avg Reward: -20.516 \t Obj(Actor): 0.094 \t Loss(Critic): 0.000\n"
     ]
    },
    {
     "name": "stderr",
     "output_type": "stream",
     "text": [
      " 43%|████▎     | 43402/100000 [1:35:59<2:07:07,  7.42it/s]"
     ]
    },
    {
     "name": "stdout",
     "output_type": "stream",
     "text": [
      "Num steps: 43400 \t Avg Reward: -12.727 \t Obj(Actor): 0.098 \t Loss(Critic): 0.033\n"
     ]
    },
    {
     "name": "stderr",
     "output_type": "stream",
     "text": [
      " 44%|████▎     | 43602/100000 [1:36:24<2:04:27,  7.55it/s]"
     ]
    },
    {
     "name": "stdout",
     "output_type": "stream",
     "text": [
      "Num steps: 43600 \t Avg Reward: -20.930 \t Obj(Actor): 0.104 \t Loss(Critic): 0.018\n"
     ]
    },
    {
     "name": "stderr",
     "output_type": "stream",
     "text": [
      " 44%|████▍     | 43802/100000 [1:36:49<2:17:57,  6.79it/s]"
     ]
    },
    {
     "name": "stdout",
     "output_type": "stream",
     "text": [
      "Num steps: 43800 \t Avg Reward: -13.418 \t Obj(Actor): 0.096 \t Loss(Critic): 0.019\n"
     ]
    },
    {
     "name": "stderr",
     "output_type": "stream",
     "text": [
      " 44%|████▍     | 44002/100000 [1:37:13<2:14:07,  6.96it/s]"
     ]
    },
    {
     "name": "stdout",
     "output_type": "stream",
     "text": [
      "Num steps: 44000 \t Avg Reward: -23.420 \t Obj(Actor): 0.082 \t Loss(Critic): 0.001\n"
     ]
    },
    {
     "name": "stderr",
     "output_type": "stream",
     "text": [
      " 44%|████▍     | 44202/100000 [1:37:38<2:02:08,  7.61it/s]"
     ]
    },
    {
     "name": "stdout",
     "output_type": "stream",
     "text": [
      "Num steps: 44200 \t Avg Reward: -23.941 \t Obj(Actor): 0.090 \t Loss(Critic): 0.004\n"
     ]
    },
    {
     "name": "stderr",
     "output_type": "stream",
     "text": [
      " 44%|████▍     | 44402/100000 [1:38:02<2:02:03,  7.59it/s]"
     ]
    },
    {
     "name": "stdout",
     "output_type": "stream",
     "text": [
      "Num steps: 44400 \t Avg Reward: -21.922 \t Obj(Actor): 0.099 \t Loss(Critic): 0.006\n"
     ]
    },
    {
     "name": "stderr",
     "output_type": "stream",
     "text": [
      " 45%|████▍     | 44602/100000 [1:38:29<2:03:44,  7.46it/s]"
     ]
    },
    {
     "name": "stdout",
     "output_type": "stream",
     "text": [
      "Num steps: 44600 \t Avg Reward: -23.793 \t Obj(Actor): 0.089 \t Loss(Critic): 0.002\n"
     ]
    },
    {
     "name": "stderr",
     "output_type": "stream",
     "text": [
      " 45%|████▍     | 44802/100000 [1:38:54<1:59:46,  7.68it/s]"
     ]
    },
    {
     "name": "stdout",
     "output_type": "stream",
     "text": [
      "Num steps: 44800 \t Avg Reward: -20.362 \t Obj(Actor): 0.090 \t Loss(Critic): 0.008\n"
     ]
    },
    {
     "name": "stderr",
     "output_type": "stream",
     "text": [
      " 45%|████▌     | 45002/100000 [1:39:18<2:00:48,  7.59it/s]"
     ]
    },
    {
     "name": "stdout",
     "output_type": "stream",
     "text": [
      "Num steps: 45000 \t Avg Reward: -20.584 \t Obj(Actor): 0.097 \t Loss(Critic): 0.013\n"
     ]
    },
    {
     "name": "stderr",
     "output_type": "stream",
     "text": [
      " 45%|████▌     | 45202/100000 [1:39:43<2:00:40,  7.57it/s]"
     ]
    },
    {
     "name": "stdout",
     "output_type": "stream",
     "text": [
      "Num steps: 45200 \t Avg Reward: -23.414 \t Obj(Actor): 0.092 \t Loss(Critic): 0.000\n"
     ]
    },
    {
     "name": "stderr",
     "output_type": "stream",
     "text": [
      " 45%|████▌     | 45402/100000 [1:40:08<1:56:02,  7.84it/s]"
     ]
    },
    {
     "name": "stdout",
     "output_type": "stream",
     "text": [
      "Num steps: 45400 \t Avg Reward: -12.292 \t Obj(Actor): 0.081 \t Loss(Critic): 0.000\n"
     ]
    },
    {
     "name": "stderr",
     "output_type": "stream",
     "text": [
      " 46%|████▌     | 45602/100000 [1:40:34<2:00:14,  7.54it/s]"
     ]
    },
    {
     "name": "stdout",
     "output_type": "stream",
     "text": [
      "Num steps: 45600 \t Avg Reward: -27.258 \t Obj(Actor): 0.080 \t Loss(Critic): 0.011\n"
     ]
    },
    {
     "name": "stderr",
     "output_type": "stream",
     "text": [
      " 46%|████▌     | 45802/100000 [1:40:59<2:14:34,  6.71it/s]"
     ]
    },
    {
     "name": "stdout",
     "output_type": "stream",
     "text": [
      "Num steps: 45800 \t Avg Reward: -27.151 \t Obj(Actor): 0.100 \t Loss(Critic): 0.004\n"
     ]
    },
    {
     "name": "stderr",
     "output_type": "stream",
     "text": [
      " 46%|████▌     | 46002/100000 [1:41:23<1:58:11,  7.61it/s]"
     ]
    },
    {
     "name": "stdout",
     "output_type": "stream",
     "text": [
      "Num steps: 46000 \t Avg Reward: -27.128 \t Obj(Actor): 0.087 \t Loss(Critic): 0.008\n"
     ]
    },
    {
     "name": "stderr",
     "output_type": "stream",
     "text": [
      " 46%|████▌     | 46202/100000 [1:41:49<2:01:12,  7.40it/s]"
     ]
    },
    {
     "name": "stdout",
     "output_type": "stream",
     "text": [
      "Num steps: 46200 \t Avg Reward: -24.900 \t Obj(Actor): 0.086 \t Loss(Critic): 0.010\n"
     ]
    },
    {
     "name": "stderr",
     "output_type": "stream",
     "text": [
      " 46%|████▋     | 46402/100000 [1:42:14<2:01:43,  7.34it/s]"
     ]
    },
    {
     "name": "stdout",
     "output_type": "stream",
     "text": [
      "Num steps: 46400 \t Avg Reward: -18.334 \t Obj(Actor): 0.090 \t Loss(Critic): 0.000\n"
     ]
    },
    {
     "name": "stderr",
     "output_type": "stream",
     "text": [
      " 47%|████▋     | 46602/100000 [1:42:39<2:06:13,  7.05it/s]"
     ]
    },
    {
     "name": "stdout",
     "output_type": "stream",
     "text": [
      "Num steps: 46600 \t Avg Reward: -28.271 \t Obj(Actor): 0.095 \t Loss(Critic): 0.001\n"
     ]
    },
    {
     "name": "stderr",
     "output_type": "stream",
     "text": [
      " 47%|████▋     | 46802/100000 [1:43:05<1:52:53,  7.85it/s]"
     ]
    },
    {
     "name": "stdout",
     "output_type": "stream",
     "text": [
      "Num steps: 46800 \t Avg Reward: -0.005 \t Obj(Actor): 0.094 \t Loss(Critic): 0.001\n"
     ]
    },
    {
     "name": "stderr",
     "output_type": "stream",
     "text": [
      " 47%|████▋     | 47002/100000 [1:43:30<1:58:40,  7.44it/s]"
     ]
    },
    {
     "name": "stdout",
     "output_type": "stream",
     "text": [
      "Num steps: 47000 \t Avg Reward: -13.185 \t Obj(Actor): 0.089 \t Loss(Critic): 0.006\n"
     ]
    },
    {
     "name": "stderr",
     "output_type": "stream",
     "text": [
      " 47%|████▋     | 47202/100000 [1:43:56<2:09:07,  6.82it/s]"
     ]
    },
    {
     "name": "stdout",
     "output_type": "stream",
     "text": [
      "Num steps: 47200 \t Avg Reward: -22.430 \t Obj(Actor): 0.090 \t Loss(Critic): 0.003\n"
     ]
    },
    {
     "name": "stderr",
     "output_type": "stream",
     "text": [
      " 47%|████▋     | 47402/100000 [1:44:22<2:06:00,  6.96it/s]"
     ]
    },
    {
     "name": "stdout",
     "output_type": "stream",
     "text": [
      "Num steps: 47400 \t Avg Reward: -23.781 \t Obj(Actor): 0.058 \t Loss(Critic): 0.017\n"
     ]
    },
    {
     "name": "stderr",
     "output_type": "stream",
     "text": [
      " 48%|████▊     | 47602/100000 [1:44:47<2:02:49,  7.11it/s]"
     ]
    },
    {
     "name": "stdout",
     "output_type": "stream",
     "text": [
      "Num steps: 47600 \t Avg Reward: -22.017 \t Obj(Actor): 0.103 \t Loss(Critic): 0.012\n"
     ]
    },
    {
     "name": "stderr",
     "output_type": "stream",
     "text": [
      " 48%|████▊     | 47802/100000 [1:45:13<1:56:25,  7.47it/s]"
     ]
    },
    {
     "name": "stdout",
     "output_type": "stream",
     "text": [
      "Num steps: 47800 \t Avg Reward: -12.301 \t Obj(Actor): 0.097 \t Loss(Critic): 0.002\n"
     ]
    },
    {
     "name": "stderr",
     "output_type": "stream",
     "text": [
      " 48%|████▊     | 48002/100000 [1:45:38<2:02:37,  7.07it/s]"
     ]
    },
    {
     "name": "stdout",
     "output_type": "stream",
     "text": [
      "Num steps: 48000 \t Avg Reward: -23.661 \t Obj(Actor): 0.088 \t Loss(Critic): 0.007\n"
     ]
    },
    {
     "name": "stderr",
     "output_type": "stream",
     "text": [
      " 48%|████▊     | 48202/100000 [1:46:04<1:57:12,  7.37it/s]"
     ]
    },
    {
     "name": "stdout",
     "output_type": "stream",
     "text": [
      "Num steps: 48200 \t Avg Reward: -12.649 \t Obj(Actor): 0.092 \t Loss(Critic): 0.040\n"
     ]
    },
    {
     "name": "stderr",
     "output_type": "stream",
     "text": [
      " 48%|████▊     | 48402/100000 [1:46:29<2:01:11,  7.10it/s]"
     ]
    },
    {
     "name": "stdout",
     "output_type": "stream",
     "text": [
      "Num steps: 48400 \t Avg Reward: -19.424 \t Obj(Actor): 0.088 \t Loss(Critic): 0.000\n"
     ]
    },
    {
     "name": "stderr",
     "output_type": "stream",
     "text": [
      " 49%|████▊     | 48602/100000 [1:46:55<1:56:19,  7.36it/s]"
     ]
    },
    {
     "name": "stdout",
     "output_type": "stream",
     "text": [
      "Num steps: 48600 \t Avg Reward: -9.813 \t Obj(Actor): 0.101 \t Loss(Critic): 0.000\n"
     ]
    },
    {
     "name": "stderr",
     "output_type": "stream",
     "text": [
      " 49%|████▉     | 48802/100000 [1:47:20<2:04:43,  6.84it/s]"
     ]
    },
    {
     "name": "stdout",
     "output_type": "stream",
     "text": [
      "Num steps: 48800 \t Avg Reward: -21.235 \t Obj(Actor): 0.084 \t Loss(Critic): 0.005\n"
     ]
    },
    {
     "name": "stderr",
     "output_type": "stream",
     "text": [
      " 49%|████▉     | 49002/100000 [1:47:46<1:59:56,  7.09it/s]"
     ]
    },
    {
     "name": "stdout",
     "output_type": "stream",
     "text": [
      "Num steps: 49000 \t Avg Reward: -20.252 \t Obj(Actor): 0.086 \t Loss(Critic): 0.015\n"
     ]
    },
    {
     "name": "stderr",
     "output_type": "stream",
     "text": [
      " 49%|████▉     | 49202/100000 [1:48:11<2:03:08,  6.88it/s]"
     ]
    },
    {
     "name": "stdout",
     "output_type": "stream",
     "text": [
      "Num steps: 49200 \t Avg Reward: -19.409 \t Obj(Actor): 0.085 \t Loss(Critic): 0.001\n"
     ]
    },
    {
     "name": "stderr",
     "output_type": "stream",
     "text": [
      " 49%|████▉     | 49402/100000 [1:48:37<1:54:41,  7.35it/s]"
     ]
    },
    {
     "name": "stdout",
     "output_type": "stream",
     "text": [
      "Num steps: 49400 \t Avg Reward: -12.019 \t Obj(Actor): 0.077 \t Loss(Critic): 0.000\n"
     ]
    },
    {
     "name": "stderr",
     "output_type": "stream",
     "text": [
      " 50%|████▉     | 49602/100000 [1:49:02<1:57:58,  7.12it/s]"
     ]
    },
    {
     "name": "stdout",
     "output_type": "stream",
     "text": [
      "Num steps: 49600 \t Avg Reward: -23.796 \t Obj(Actor): 0.087 \t Loss(Critic): 0.005\n"
     ]
    },
    {
     "name": "stderr",
     "output_type": "stream",
     "text": [
      " 50%|████▉     | 49802/100000 [1:49:28<1:57:44,  7.11it/s]"
     ]
    },
    {
     "name": "stdout",
     "output_type": "stream",
     "text": [
      "Num steps: 49800 \t Avg Reward: -24.113 \t Obj(Actor): 0.086 \t Loss(Critic): 0.003\n"
     ]
    },
    {
     "name": "stderr",
     "output_type": "stream",
     "text": [
      " 50%|█████     | 50002/100000 [1:49:53<1:58:28,  7.03it/s]"
     ]
    },
    {
     "name": "stdout",
     "output_type": "stream",
     "text": [
      "Num steps: 50000 \t Avg Reward: -24.989 \t Obj(Actor): 0.091 \t Loss(Critic): 0.000\n"
     ]
    },
    {
     "name": "stderr",
     "output_type": "stream",
     "text": [
      " 50%|█████     | 50202/100000 [1:50:19<1:56:18,  7.14it/s]"
     ]
    },
    {
     "name": "stdout",
     "output_type": "stream",
     "text": [
      "Num steps: 50200 \t Avg Reward: -21.776 \t Obj(Actor): 0.088 \t Loss(Critic): 0.000\n"
     ]
    },
    {
     "name": "stderr",
     "output_type": "stream",
     "text": [
      " 50%|█████     | 50402/100000 [1:50:44<1:51:56,  7.38it/s]"
     ]
    },
    {
     "name": "stdout",
     "output_type": "stream",
     "text": [
      "Num steps: 50400 \t Avg Reward: -24.629 \t Obj(Actor): 0.073 \t Loss(Critic): 0.008\n"
     ]
    },
    {
     "name": "stderr",
     "output_type": "stream",
     "text": [
      " 51%|█████     | 50602/100000 [1:51:10<1:43:43,  7.94it/s]"
     ]
    },
    {
     "name": "stdout",
     "output_type": "stream",
     "text": [
      "Num steps: 50600 \t Avg Reward: -0.005 \t Obj(Actor): 0.078 \t Loss(Critic): 0.004\n"
     ]
    },
    {
     "name": "stderr",
     "output_type": "stream",
     "text": [
      " 51%|█████     | 50802/100000 [1:51:35<1:50:02,  7.45it/s]"
     ]
    },
    {
     "name": "stdout",
     "output_type": "stream",
     "text": [
      "Num steps: 50800 \t Avg Reward: -14.190 \t Obj(Actor): 0.089 \t Loss(Critic): 0.006\n"
     ]
    },
    {
     "name": "stderr",
     "output_type": "stream",
     "text": [
      " 51%|█████     | 51002/100000 [1:52:01<1:48:28,  7.53it/s]"
     ]
    },
    {
     "name": "stdout",
     "output_type": "stream",
     "text": [
      "Num steps: 51000 \t Avg Reward: -13.771 \t Obj(Actor): 0.097 \t Loss(Critic): 0.010\n"
     ]
    },
    {
     "name": "stderr",
     "output_type": "stream",
     "text": [
      " 51%|█████     | 51202/100000 [1:52:26<1:54:15,  7.12it/s]"
     ]
    },
    {
     "name": "stdout",
     "output_type": "stream",
     "text": [
      "Num steps: 51200 \t Avg Reward: -28.301 \t Obj(Actor): 0.081 \t Loss(Critic): 0.000\n"
     ]
    },
    {
     "name": "stderr",
     "output_type": "stream",
     "text": [
      " 51%|█████▏    | 51402/100000 [1:52:52<1:54:34,  7.07it/s]"
     ]
    },
    {
     "name": "stdout",
     "output_type": "stream",
     "text": [
      "Num steps: 51400 \t Avg Reward: -23.546 \t Obj(Actor): 0.086 \t Loss(Critic): 0.013\n"
     ]
    },
    {
     "name": "stderr",
     "output_type": "stream",
     "text": [
      " 52%|█████▏    | 51602/100000 [1:53:17<1:52:40,  7.16it/s]"
     ]
    },
    {
     "name": "stdout",
     "output_type": "stream",
     "text": [
      "Num steps: 51600 \t Avg Reward: -21.527 \t Obj(Actor): 0.088 \t Loss(Critic): 0.001\n"
     ]
    },
    {
     "name": "stderr",
     "output_type": "stream",
     "text": [
      " 52%|█████▏    | 51802/100000 [1:53:43<1:38:35,  8.15it/s]"
     ]
    },
    {
     "name": "stdout",
     "output_type": "stream",
     "text": [
      "Num steps: 51800 \t Avg Reward: -0.006 \t Obj(Actor): 0.088 \t Loss(Critic): 0.001\n"
     ]
    },
    {
     "name": "stderr",
     "output_type": "stream",
     "text": [
      " 52%|█████▏    | 52002/100000 [1:54:08<1:50:48,  7.22it/s]"
     ]
    },
    {
     "name": "stdout",
     "output_type": "stream",
     "text": [
      "Num steps: 52000 \t Avg Reward: -24.006 \t Obj(Actor): 0.092 \t Loss(Critic): 0.000\n"
     ]
    },
    {
     "name": "stderr",
     "output_type": "stream",
     "text": [
      " 52%|█████▏    | 52202/100000 [1:54:34<1:50:38,  7.20it/s]"
     ]
    },
    {
     "name": "stdout",
     "output_type": "stream",
     "text": [
      "Num steps: 52200 \t Avg Reward: -22.781 \t Obj(Actor): 0.092 \t Loss(Critic): 0.006\n"
     ]
    },
    {
     "name": "stderr",
     "output_type": "stream",
     "text": [
      " 52%|█████▏    | 52402/100000 [1:54:59<1:40:21,  7.90it/s]"
     ]
    },
    {
     "name": "stdout",
     "output_type": "stream",
     "text": [
      "Num steps: 52400 \t Avg Reward: -0.004 \t Obj(Actor): 0.093 \t Loss(Critic): 0.000\n"
     ]
    },
    {
     "name": "stderr",
     "output_type": "stream",
     "text": [
      " 53%|█████▎    | 52602/100000 [1:55:25<1:50:11,  7.17it/s]"
     ]
    },
    {
     "name": "stdout",
     "output_type": "stream",
     "text": [
      "Num steps: 52600 \t Avg Reward: -18.202 \t Obj(Actor): 0.085 \t Loss(Critic): 0.000\n"
     ]
    },
    {
     "name": "stderr",
     "output_type": "stream",
     "text": [
      " 53%|█████▎    | 52802/100000 [1:55:50<1:48:00,  7.28it/s]"
     ]
    },
    {
     "name": "stdout",
     "output_type": "stream",
     "text": [
      "Num steps: 52800 \t Avg Reward: -21.907 \t Obj(Actor): 0.071 \t Loss(Critic): 0.000\n"
     ]
    },
    {
     "name": "stderr",
     "output_type": "stream",
     "text": [
      " 53%|█████▎    | 53002/100000 [1:56:16<1:44:21,  7.51it/s]"
     ]
    },
    {
     "name": "stdout",
     "output_type": "stream",
     "text": [
      "Num steps: 53000 \t Avg Reward: -12.065 \t Obj(Actor): 0.076 \t Loss(Critic): 0.011\n"
     ]
    },
    {
     "name": "stderr",
     "output_type": "stream",
     "text": [
      " 53%|█████▎    | 53202/100000 [1:56:41<1:48:30,  7.19it/s]"
     ]
    },
    {
     "name": "stdout",
     "output_type": "stream",
     "text": [
      "Num steps: 53200 \t Avg Reward: -21.197 \t Obj(Actor): 0.075 \t Loss(Critic): 0.000\n"
     ]
    },
    {
     "name": "stderr",
     "output_type": "stream",
     "text": [
      " 53%|█████▎    | 53402/100000 [1:57:06<1:50:45,  7.01it/s]"
     ]
    },
    {
     "name": "stdout",
     "output_type": "stream",
     "text": [
      "Num steps: 53400 \t Avg Reward: -26.140 \t Obj(Actor): 0.084 \t Loss(Critic): 0.005\n"
     ]
    },
    {
     "name": "stderr",
     "output_type": "stream",
     "text": [
      " 54%|█████▎    | 53602/100000 [1:57:32<1:47:31,  7.19it/s]"
     ]
    },
    {
     "name": "stdout",
     "output_type": "stream",
     "text": [
      "Num steps: 53600 \t Avg Reward: -18.452 \t Obj(Actor): 0.079 \t Loss(Critic): 0.008\n"
     ]
    },
    {
     "name": "stderr",
     "output_type": "stream",
     "text": [
      " 54%|█████▍    | 53802/100000 [1:57:57<1:49:00,  7.06it/s]"
     ]
    },
    {
     "name": "stdout",
     "output_type": "stream",
     "text": [
      "Num steps: 53800 \t Avg Reward: -21.420 \t Obj(Actor): 0.089 \t Loss(Critic): 0.008\n"
     ]
    },
    {
     "name": "stderr",
     "output_type": "stream",
     "text": [
      " 54%|█████▍    | 54002/100000 [1:58:23<1:46:25,  7.20it/s]"
     ]
    },
    {
     "name": "stdout",
     "output_type": "stream",
     "text": [
      "Num steps: 54000 \t Avg Reward: -21.220 \t Obj(Actor): 0.096 \t Loss(Critic): 0.000\n"
     ]
    },
    {
     "name": "stderr",
     "output_type": "stream",
     "text": [
      " 54%|█████▍    | 54202/100000 [1:58:48<1:47:37,  7.09it/s]"
     ]
    },
    {
     "name": "stdout",
     "output_type": "stream",
     "text": [
      "Num steps: 54200 \t Avg Reward: -23.866 \t Obj(Actor): 0.086 \t Loss(Critic): 0.002\n"
     ]
    },
    {
     "name": "stderr",
     "output_type": "stream",
     "text": [
      " 54%|█████▍    | 54402/100000 [1:59:13<1:44:08,  7.30it/s]"
     ]
    },
    {
     "name": "stdout",
     "output_type": "stream",
     "text": [
      "Num steps: 54400 \t Avg Reward: -19.997 \t Obj(Actor): 0.086 \t Loss(Critic): 0.002\n"
     ]
    },
    {
     "name": "stderr",
     "output_type": "stream",
     "text": [
      " 55%|█████▍    | 54602/100000 [1:59:39<1:44:55,  7.21it/s]"
     ]
    },
    {
     "name": "stdout",
     "output_type": "stream",
     "text": [
      "Num steps: 54600 \t Avg Reward: -20.411 \t Obj(Actor): 0.097 \t Loss(Critic): 0.000\n"
     ]
    },
    {
     "name": "stderr",
     "output_type": "stream",
     "text": [
      " 55%|█████▍    | 54802/100000 [2:00:04<1:45:03,  7.17it/s]"
     ]
    },
    {
     "name": "stdout",
     "output_type": "stream",
     "text": [
      "Num steps: 54800 \t Avg Reward: -13.761 \t Obj(Actor): 0.072 \t Loss(Critic): 0.001\n"
     ]
    },
    {
     "name": "stderr",
     "output_type": "stream",
     "text": [
      " 55%|█████▌    | 55002/100000 [2:00:30<1:46:02,  7.07it/s]"
     ]
    },
    {
     "name": "stdout",
     "output_type": "stream",
     "text": [
      "Num steps: 55000 \t Avg Reward: -27.709 \t Obj(Actor): 0.090 \t Loss(Critic): 0.005\n"
     ]
    },
    {
     "name": "stderr",
     "output_type": "stream",
     "text": [
      " 55%|█████▌    | 55202/100000 [2:00:55<1:44:56,  7.11it/s]"
     ]
    },
    {
     "name": "stdout",
     "output_type": "stream",
     "text": [
      "Num steps: 55200 \t Avg Reward: -22.493 \t Obj(Actor): 0.080 \t Loss(Critic): 0.000\n"
     ]
    },
    {
     "name": "stderr",
     "output_type": "stream",
     "text": [
      " 55%|█████▌    | 55402/100000 [2:01:21<1:43:22,  7.19it/s]"
     ]
    },
    {
     "name": "stdout",
     "output_type": "stream",
     "text": [
      "Num steps: 55400 \t Avg Reward: -27.940 \t Obj(Actor): 0.088 \t Loss(Critic): 0.007\n"
     ]
    },
    {
     "name": "stderr",
     "output_type": "stream",
     "text": [
      " 56%|█████▌    | 55602/100000 [2:01:46<1:32:51,  7.97it/s]"
     ]
    },
    {
     "name": "stdout",
     "output_type": "stream",
     "text": [
      "Num steps: 55600 \t Avg Reward: -0.006 \t Obj(Actor): 0.089 \t Loss(Critic): 0.000\n"
     ]
    },
    {
     "name": "stderr",
     "output_type": "stream",
     "text": [
      " 56%|█████▌    | 55802/100000 [2:02:11<1:40:53,  7.30it/s]"
     ]
    },
    {
     "name": "stdout",
     "output_type": "stream",
     "text": [
      "Num steps: 55800 \t Avg Reward: -11.695 \t Obj(Actor): 0.074 \t Loss(Critic): 0.000\n"
     ]
    },
    {
     "name": "stderr",
     "output_type": "stream",
     "text": [
      " 56%|█████▌    | 56002/100000 [2:02:37<1:39:04,  7.40it/s]"
     ]
    },
    {
     "name": "stdout",
     "output_type": "stream",
     "text": [
      "Num steps: 56000 \t Avg Reward: -13.770 \t Obj(Actor): 0.088 \t Loss(Critic): 0.004\n"
     ]
    },
    {
     "name": "stderr",
     "output_type": "stream",
     "text": [
      " 56%|█████▌    | 56202/100000 [2:03:02<1:43:19,  7.06it/s]"
     ]
    },
    {
     "name": "stdout",
     "output_type": "stream",
     "text": [
      "Num steps: 56200 \t Avg Reward: -18.410 \t Obj(Actor): 0.098 \t Loss(Critic): 0.001\n"
     ]
    },
    {
     "name": "stderr",
     "output_type": "stream",
     "text": [
      " 56%|█████▋    | 56402/100000 [2:03:28<1:40:42,  7.22it/s]"
     ]
    },
    {
     "name": "stdout",
     "output_type": "stream",
     "text": [
      "Num steps: 56400 \t Avg Reward: -22.652 \t Obj(Actor): 0.090 \t Loss(Critic): 0.004\n"
     ]
    },
    {
     "name": "stderr",
     "output_type": "stream",
     "text": [
      " 57%|█████▋    | 56602/100000 [2:03:53<1:40:25,  7.20it/s]"
     ]
    },
    {
     "name": "stdout",
     "output_type": "stream",
     "text": [
      "Num steps: 56600 \t Avg Reward: -28.026 \t Obj(Actor): 0.088 \t Loss(Critic): 0.010\n"
     ]
    },
    {
     "name": "stderr",
     "output_type": "stream",
     "text": [
      " 57%|█████▋    | 56802/100000 [2:04:19<1:41:56,  7.06it/s]"
     ]
    },
    {
     "name": "stdout",
     "output_type": "stream",
     "text": [
      "Num steps: 56800 \t Avg Reward: -17.319 \t Obj(Actor): 0.092 \t Loss(Critic): 0.000\n"
     ]
    },
    {
     "name": "stderr",
     "output_type": "stream",
     "text": [
      " 57%|█████▋    | 57002/100000 [2:04:44<1:35:55,  7.47it/s]"
     ]
    },
    {
     "name": "stdout",
     "output_type": "stream",
     "text": [
      "Num steps: 57000 \t Avg Reward: -13.776 \t Obj(Actor): 0.076 \t Loss(Critic): 0.009\n"
     ]
    },
    {
     "name": "stderr",
     "output_type": "stream",
     "text": [
      " 57%|█████▋    | 57202/100000 [2:05:10<1:39:43,  7.15it/s]"
     ]
    },
    {
     "name": "stdout",
     "output_type": "stream",
     "text": [
      "Num steps: 57200 \t Avg Reward: -26.698 \t Obj(Actor): 0.084 \t Loss(Critic): 0.001\n"
     ]
    },
    {
     "name": "stderr",
     "output_type": "stream",
     "text": [
      " 57%|█████▋    | 57402/100000 [2:05:35<1:39:58,  7.10it/s]"
     ]
    },
    {
     "name": "stdout",
     "output_type": "stream",
     "text": [
      "Num steps: 57400 \t Avg Reward: -25.488 \t Obj(Actor): 0.087 \t Loss(Critic): 0.028\n"
     ]
    },
    {
     "name": "stderr",
     "output_type": "stream",
     "text": [
      " 58%|█████▊    | 57602/100000 [2:06:00<1:39:36,  7.09it/s]"
     ]
    },
    {
     "name": "stdout",
     "output_type": "stream",
     "text": [
      "Num steps: 57600 \t Avg Reward: -20.830 \t Obj(Actor): 0.091 \t Loss(Critic): 0.002\n"
     ]
    },
    {
     "name": "stderr",
     "output_type": "stream",
     "text": [
      " 58%|█████▊    | 57802/100000 [2:06:26<1:39:06,  7.10it/s]"
     ]
    },
    {
     "name": "stdout",
     "output_type": "stream",
     "text": [
      "Num steps: 57800 \t Avg Reward: -23.898 \t Obj(Actor): 0.090 \t Loss(Critic): 0.053\n"
     ]
    },
    {
     "name": "stderr",
     "output_type": "stream",
     "text": [
      " 58%|█████▊    | 58002/100000 [2:06:51<1:39:54,  7.01it/s]"
     ]
    },
    {
     "name": "stdout",
     "output_type": "stream",
     "text": [
      "Num steps: 58000 \t Avg Reward: -26.170 \t Obj(Actor): 0.090 \t Loss(Critic): 0.014\n"
     ]
    },
    {
     "name": "stderr",
     "output_type": "stream",
     "text": [
      " 58%|█████▊    | 58202/100000 [2:07:17<1:33:50,  7.42it/s]"
     ]
    },
    {
     "name": "stdout",
     "output_type": "stream",
     "text": [
      "Num steps: 58200 \t Avg Reward: -13.692 \t Obj(Actor): 0.087 \t Loss(Critic): 0.000\n"
     ]
    },
    {
     "name": "stderr",
     "output_type": "stream",
     "text": [
      " 58%|█████▊    | 58402/100000 [2:07:43<1:36:06,  7.21it/s]"
     ]
    },
    {
     "name": "stdout",
     "output_type": "stream",
     "text": [
      "Num steps: 58400 \t Avg Reward: -23.920 \t Obj(Actor): 0.086 \t Loss(Critic): 0.001\n"
     ]
    },
    {
     "name": "stderr",
     "output_type": "stream",
     "text": [
      " 59%|█████▊    | 58602/100000 [2:08:08<1:35:39,  7.21it/s]"
     ]
    },
    {
     "name": "stdout",
     "output_type": "stream",
     "text": [
      "Num steps: 58600 \t Avg Reward: -27.342 \t Obj(Actor): 0.085 \t Loss(Critic): 0.014\n"
     ]
    },
    {
     "name": "stderr",
     "output_type": "stream",
     "text": [
      " 59%|█████▉    | 58802/100000 [2:08:34<1:32:41,  7.41it/s]"
     ]
    },
    {
     "name": "stdout",
     "output_type": "stream",
     "text": [
      "Num steps: 58800 \t Avg Reward: -12.584 \t Obj(Actor): 0.085 \t Loss(Critic): 0.076\n"
     ]
    },
    {
     "name": "stderr",
     "output_type": "stream",
     "text": [
      " 59%|█████▉    | 59002/100000 [2:08:59<1:35:32,  7.15it/s]"
     ]
    },
    {
     "name": "stdout",
     "output_type": "stream",
     "text": [
      "Num steps: 59000 \t Avg Reward: -24.452 \t Obj(Actor): 0.080 \t Loss(Critic): 0.001\n"
     ]
    },
    {
     "name": "stderr",
     "output_type": "stream",
     "text": [
      " 59%|█████▉    | 59202/100000 [2:09:25<1:34:15,  7.21it/s]"
     ]
    },
    {
     "name": "stdout",
     "output_type": "stream",
     "text": [
      "Num steps: 59200 \t Avg Reward: -25.494 \t Obj(Actor): 0.087 \t Loss(Critic): 0.005\n"
     ]
    },
    {
     "name": "stderr",
     "output_type": "stream",
     "text": [
      " 59%|█████▉    | 59402/100000 [2:09:50<1:35:12,  7.11it/s]"
     ]
    },
    {
     "name": "stdout",
     "output_type": "stream",
     "text": [
      "Num steps: 59400 \t Avg Reward: -22.696 \t Obj(Actor): 0.093 \t Loss(Critic): 0.002\n"
     ]
    },
    {
     "name": "stderr",
     "output_type": "stream",
     "text": [
      " 60%|█████▉    | 59602/100000 [2:10:16<1:33:29,  7.20it/s]"
     ]
    },
    {
     "name": "stdout",
     "output_type": "stream",
     "text": [
      "Num steps: 59600 \t Avg Reward: -19.713 \t Obj(Actor): 0.091 \t Loss(Critic): 0.000\n"
     ]
    },
    {
     "name": "stderr",
     "output_type": "stream",
     "text": [
      " 60%|█████▉    | 59802/100000 [2:10:41<1:34:51,  7.06it/s]"
     ]
    },
    {
     "name": "stdout",
     "output_type": "stream",
     "text": [
      "Num steps: 59800 \t Avg Reward: -24.963 \t Obj(Actor): 0.097 \t Loss(Critic): 0.004\n"
     ]
    },
    {
     "name": "stderr",
     "output_type": "stream",
     "text": [
      " 60%|██████    | 60002/100000 [2:11:06<1:33:28,  7.13it/s]"
     ]
    },
    {
     "name": "stdout",
     "output_type": "stream",
     "text": [
      "Num steps: 60000 \t Avg Reward: -23.062 \t Obj(Actor): 0.093 \t Loss(Critic): 0.087\n"
     ]
    },
    {
     "name": "stderr",
     "output_type": "stream",
     "text": [
      " 60%|██████    | 60202/100000 [2:11:32<1:35:11,  6.97it/s]"
     ]
    },
    {
     "name": "stdout",
     "output_type": "stream",
     "text": [
      "Num steps: 60200 \t Avg Reward: -20.780 \t Obj(Actor): 0.097 \t Loss(Critic): 0.039\n"
     ]
    },
    {
     "name": "stderr",
     "output_type": "stream",
     "text": [
      " 60%|██████    | 60402/100000 [2:11:59<1:30:08,  7.32it/s]"
     ]
    },
    {
     "name": "stdout",
     "output_type": "stream",
     "text": [
      "Num steps: 60400 \t Avg Reward: -25.642 \t Obj(Actor): 0.090 \t Loss(Critic): 0.024\n"
     ]
    },
    {
     "name": "stderr",
     "output_type": "stream",
     "text": [
      " 61%|██████    | 60602/100000 [2:12:23<1:29:35,  7.33it/s]"
     ]
    },
    {
     "name": "stdout",
     "output_type": "stream",
     "text": [
      "Num steps: 60600 \t Avg Reward: -23.874 \t Obj(Actor): 0.095 \t Loss(Critic): 0.001\n"
     ]
    },
    {
     "name": "stderr",
     "output_type": "stream",
     "text": [
      " 61%|██████    | 60802/100000 [2:12:48<1:32:34,  7.06it/s]"
     ]
    },
    {
     "name": "stdout",
     "output_type": "stream",
     "text": [
      "Num steps: 60800 \t Avg Reward: -26.615 \t Obj(Actor): 0.093 \t Loss(Critic): 0.000\n"
     ]
    },
    {
     "name": "stderr",
     "output_type": "stream",
     "text": [
      " 61%|██████    | 61002/100000 [2:13:14<1:29:22,  7.27it/s]"
     ]
    },
    {
     "name": "stdout",
     "output_type": "stream",
     "text": [
      "Num steps: 61000 \t Avg Reward: -13.378 \t Obj(Actor): 0.093 \t Loss(Critic): 0.005\n"
     ]
    },
    {
     "name": "stderr",
     "output_type": "stream",
     "text": [
      " 61%|██████    | 61202/100000 [2:13:40<1:30:03,  7.18it/s]"
     ]
    },
    {
     "name": "stdout",
     "output_type": "stream",
     "text": [
      "Num steps: 61200 \t Avg Reward: -26.135 \t Obj(Actor): 0.085 \t Loss(Critic): 0.045\n"
     ]
    },
    {
     "name": "stderr",
     "output_type": "stream",
     "text": [
      " 61%|██████▏   | 61402/100000 [2:14:05<1:32:16,  6.97it/s]"
     ]
    },
    {
     "name": "stdout",
     "output_type": "stream",
     "text": [
      "Num steps: 61400 \t Avg Reward: -25.087 \t Obj(Actor): 0.098 \t Loss(Critic): 0.003\n"
     ]
    },
    {
     "name": "stderr",
     "output_type": "stream",
     "text": [
      " 62%|██████▏   | 61602/100000 [2:14:31<1:32:22,  6.93it/s]"
     ]
    },
    {
     "name": "stdout",
     "output_type": "stream",
     "text": [
      "Num steps: 61600 \t Avg Reward: -22.768 \t Obj(Actor): 0.091 \t Loss(Critic): 0.018\n"
     ]
    },
    {
     "name": "stderr",
     "output_type": "stream",
     "text": [
      " 62%|██████▏   | 61802/100000 [2:14:57<1:28:46,  7.17it/s]"
     ]
    },
    {
     "name": "stdout",
     "output_type": "stream",
     "text": [
      "Num steps: 61800 \t Avg Reward: -25.260 \t Obj(Actor): 0.090 \t Loss(Critic): 0.002\n"
     ]
    },
    {
     "name": "stderr",
     "output_type": "stream",
     "text": [
      " 62%|██████▏   | 62002/100000 [2:15:22<1:29:42,  7.06it/s]"
     ]
    },
    {
     "name": "stdout",
     "output_type": "stream",
     "text": [
      "Num steps: 62000 \t Avg Reward: -20.116 \t Obj(Actor): 0.096 \t Loss(Critic): 0.000\n"
     ]
    },
    {
     "name": "stderr",
     "output_type": "stream",
     "text": [
      " 62%|██████▏   | 62202/100000 [2:15:48<1:27:08,  7.23it/s]"
     ]
    },
    {
     "name": "stdout",
     "output_type": "stream",
     "text": [
      "Num steps: 62200 \t Avg Reward: -18.463 \t Obj(Actor): 0.099 \t Loss(Critic): 0.002\n"
     ]
    },
    {
     "name": "stderr",
     "output_type": "stream",
     "text": [
      " 62%|██████▏   | 62402/100000 [2:16:14<1:25:49,  7.30it/s]"
     ]
    },
    {
     "name": "stdout",
     "output_type": "stream",
     "text": [
      "Num steps: 62400 \t Avg Reward: -27.777 \t Obj(Actor): 0.101 \t Loss(Critic): 0.012\n"
     ]
    },
    {
     "name": "stderr",
     "output_type": "stream",
     "text": [
      " 63%|██████▎   | 62602/100000 [2:16:39<1:28:46,  7.02it/s]"
     ]
    },
    {
     "name": "stdout",
     "output_type": "stream",
     "text": [
      "Num steps: 62600 \t Avg Reward: -25.738 \t Obj(Actor): 0.094 \t Loss(Critic): 0.001\n"
     ]
    },
    {
     "name": "stderr",
     "output_type": "stream",
     "text": [
      " 63%|██████▎   | 62802/100000 [2:17:05<1:27:30,  7.09it/s]"
     ]
    },
    {
     "name": "stdout",
     "output_type": "stream",
     "text": [
      "Num steps: 62800 \t Avg Reward: -27.722 \t Obj(Actor): 0.092 \t Loss(Critic): 0.000\n"
     ]
    },
    {
     "name": "stderr",
     "output_type": "stream",
     "text": [
      " 63%|██████▎   | 63002/100000 [2:17:30<1:26:56,  7.09it/s]"
     ]
    },
    {
     "name": "stdout",
     "output_type": "stream",
     "text": [
      "Num steps: 63000 \t Avg Reward: -25.274 \t Obj(Actor): 0.084 \t Loss(Critic): 0.002\n"
     ]
    },
    {
     "name": "stderr",
     "output_type": "stream",
     "text": [
      " 63%|██████▎   | 63202/100000 [2:17:56<1:24:36,  7.25it/s]"
     ]
    },
    {
     "name": "stdout",
     "output_type": "stream",
     "text": [
      "Num steps: 63200 \t Avg Reward: -20.668 \t Obj(Actor): 0.103 \t Loss(Critic): 0.004\n"
     ]
    },
    {
     "name": "stderr",
     "output_type": "stream",
     "text": [
      " 63%|██████▎   | 63402/100000 [2:18:22<1:27:21,  6.98it/s]"
     ]
    },
    {
     "name": "stdout",
     "output_type": "stream",
     "text": [
      "Num steps: 63400 \t Avg Reward: -24.534 \t Obj(Actor): 0.093 \t Loss(Critic): 0.000\n"
     ]
    },
    {
     "name": "stderr",
     "output_type": "stream",
     "text": [
      " 64%|██████▎   | 63602/100000 [2:18:47<1:21:48,  7.42it/s]"
     ]
    },
    {
     "name": "stdout",
     "output_type": "stream",
     "text": [
      "Num steps: 63600 \t Avg Reward: -13.761 \t Obj(Actor): 0.095 \t Loss(Critic): 0.003\n"
     ]
    },
    {
     "name": "stderr",
     "output_type": "stream",
     "text": [
      " 64%|██████▍   | 63802/100000 [2:19:13<1:24:42,  7.12it/s]"
     ]
    },
    {
     "name": "stdout",
     "output_type": "stream",
     "text": [
      "Num steps: 63800 \t Avg Reward: -20.054 \t Obj(Actor): 0.083 \t Loss(Critic): 0.010\n"
     ]
    },
    {
     "name": "stderr",
     "output_type": "stream",
     "text": [
      " 64%|██████▍   | 64002/100000 [2:19:39<1:24:05,  7.13it/s]"
     ]
    },
    {
     "name": "stdout",
     "output_type": "stream",
     "text": [
      "Num steps: 64000 \t Avg Reward: -24.062 \t Obj(Actor): 0.097 \t Loss(Critic): 0.028\n"
     ]
    },
    {
     "name": "stderr",
     "output_type": "stream",
     "text": [
      " 64%|██████▍   | 64202/100000 [2:20:04<1:24:42,  7.04it/s]"
     ]
    },
    {
     "name": "stdout",
     "output_type": "stream",
     "text": [
      "Num steps: 64200 \t Avg Reward: -22.646 \t Obj(Actor): 0.087 \t Loss(Critic): 0.004\n"
     ]
    },
    {
     "name": "stderr",
     "output_type": "stream",
     "text": [
      " 64%|██████▍   | 64402/100000 [2:20:30<1:21:40,  7.26it/s]"
     ]
    },
    {
     "name": "stdout",
     "output_type": "stream",
     "text": [
      "Num steps: 64400 \t Avg Reward: -23.436 \t Obj(Actor): 0.094 \t Loss(Critic): 0.016\n"
     ]
    },
    {
     "name": "stderr",
     "output_type": "stream",
     "text": [
      " 65%|██████▍   | 64602/100000 [2:20:55<1:23:34,  7.06it/s]"
     ]
    },
    {
     "name": "stdout",
     "output_type": "stream",
     "text": [
      "Num steps: 64600 \t Avg Reward: -23.879 \t Obj(Actor): 0.095 \t Loss(Critic): 0.045\n"
     ]
    },
    {
     "name": "stderr",
     "output_type": "stream",
     "text": [
      " 65%|██████▍   | 64802/100000 [2:21:21<1:23:08,  7.06it/s]"
     ]
    },
    {
     "name": "stdout",
     "output_type": "stream",
     "text": [
      "Num steps: 64800 \t Avg Reward: -21.763 \t Obj(Actor): 0.097 \t Loss(Critic): 0.001\n"
     ]
    },
    {
     "name": "stderr",
     "output_type": "stream",
     "text": [
      " 65%|██████▌   | 65002/100000 [2:21:47<1:21:17,  7.18it/s]"
     ]
    },
    {
     "name": "stdout",
     "output_type": "stream",
     "text": [
      "Num steps: 65000 \t Avg Reward: -12.670 \t Obj(Actor): 0.097 \t Loss(Critic): 0.006\n"
     ]
    },
    {
     "name": "stderr",
     "output_type": "stream",
     "text": [
      " 65%|██████▌   | 65202/100000 [2:22:12<1:19:51,  7.26it/s]"
     ]
    },
    {
     "name": "stdout",
     "output_type": "stream",
     "text": [
      "Num steps: 65200 \t Avg Reward: -17.512 \t Obj(Actor): 0.089 \t Loss(Critic): 0.004\n"
     ]
    },
    {
     "name": "stderr",
     "output_type": "stream",
     "text": [
      " 65%|██████▌   | 65402/100000 [2:22:38<1:25:38,  6.73it/s]"
     ]
    },
    {
     "name": "stdout",
     "output_type": "stream",
     "text": [
      "Num steps: 65400 \t Avg Reward: -25.936 \t Obj(Actor): 0.092 \t Loss(Critic): 0.074\n"
     ]
    },
    {
     "name": "stderr",
     "output_type": "stream",
     "text": [
      " 66%|██████▌   | 65602/100000 [2:23:03<1:19:51,  7.18it/s]"
     ]
    },
    {
     "name": "stdout",
     "output_type": "stream",
     "text": [
      "Num steps: 65600 \t Avg Reward: -23.078 \t Obj(Actor): 0.088 \t Loss(Critic): 0.003\n"
     ]
    },
    {
     "name": "stderr",
     "output_type": "stream",
     "text": [
      " 66%|██████▌   | 65802/100000 [2:23:29<1:20:32,  7.08it/s]"
     ]
    },
    {
     "name": "stdout",
     "output_type": "stream",
     "text": [
      "Num steps: 65800 \t Avg Reward: -22.030 \t Obj(Actor): 0.088 \t Loss(Critic): 0.000\n"
     ]
    },
    {
     "name": "stderr",
     "output_type": "stream",
     "text": [
      " 66%|██████▌   | 66002/100000 [2:23:55<1:20:33,  7.03it/s]"
     ]
    },
    {
     "name": "stdout",
     "output_type": "stream",
     "text": [
      "Num steps: 66000 \t Avg Reward: -23.545 \t Obj(Actor): 0.096 \t Loss(Critic): 0.007\n"
     ]
    },
    {
     "name": "stderr",
     "output_type": "stream",
     "text": [
      " 66%|██████▌   | 66202/100000 [2:24:21<1:19:30,  7.08it/s]"
     ]
    },
    {
     "name": "stdout",
     "output_type": "stream",
     "text": [
      "Num steps: 66200 \t Avg Reward: -19.277 \t Obj(Actor): 0.100 \t Loss(Critic): 0.006\n"
     ]
    },
    {
     "name": "stderr",
     "output_type": "stream",
     "text": [
      " 66%|██████▋   | 66402/100000 [2:24:46<1:18:16,  7.15it/s]"
     ]
    },
    {
     "name": "stdout",
     "output_type": "stream",
     "text": [
      "Num steps: 66400 \t Avg Reward: -23.785 \t Obj(Actor): 0.101 \t Loss(Critic): 0.000\n"
     ]
    },
    {
     "name": "stderr",
     "output_type": "stream",
     "text": [
      " 67%|██████▋   | 66602/100000 [2:25:12<1:20:04,  6.95it/s]"
     ]
    },
    {
     "name": "stdout",
     "output_type": "stream",
     "text": [
      "Num steps: 66600 \t Avg Reward: -22.678 \t Obj(Actor): 0.092 \t Loss(Critic): 0.004\n"
     ]
    },
    {
     "name": "stderr",
     "output_type": "stream",
     "text": [
      " 67%|██████▋   | 66802/100000 [2:25:37<1:13:57,  7.48it/s]"
     ]
    },
    {
     "name": "stdout",
     "output_type": "stream",
     "text": [
      "Num steps: 66800 \t Avg Reward: -9.821 \t Obj(Actor): 0.097 \t Loss(Critic): 0.000\n"
     ]
    },
    {
     "name": "stderr",
     "output_type": "stream",
     "text": [
      " 67%|██████▋   | 67002/100000 [2:26:03<1:18:02,  7.05it/s]"
     ]
    },
    {
     "name": "stdout",
     "output_type": "stream",
     "text": [
      "Num steps: 67000 \t Avg Reward: -19.780 \t Obj(Actor): 0.108 \t Loss(Critic): 0.009\n"
     ]
    },
    {
     "name": "stderr",
     "output_type": "stream",
     "text": [
      " 67%|██████▋   | 67202/100000 [2:26:29<1:17:14,  7.08it/s]"
     ]
    },
    {
     "name": "stdout",
     "output_type": "stream",
     "text": [
      "Num steps: 67200 \t Avg Reward: -22.012 \t Obj(Actor): 0.100 \t Loss(Critic): 0.012\n"
     ]
    },
    {
     "name": "stderr",
     "output_type": "stream",
     "text": [
      " 67%|██████▋   | 67402/100000 [2:26:54<1:16:09,  7.13it/s]"
     ]
    },
    {
     "name": "stdout",
     "output_type": "stream",
     "text": [
      "Num steps: 67400 \t Avg Reward: -26.094 \t Obj(Actor): 0.099 \t Loss(Critic): 0.000\n"
     ]
    },
    {
     "name": "stderr",
     "output_type": "stream",
     "text": [
      " 68%|██████▊   | 67602/100000 [2:27:20<1:09:39,  7.75it/s]"
     ]
    },
    {
     "name": "stdout",
     "output_type": "stream",
     "text": [
      "Num steps: 67600 \t Avg Reward: -0.076 \t Obj(Actor): 0.099 \t Loss(Critic): 0.021\n"
     ]
    },
    {
     "name": "stderr",
     "output_type": "stream",
     "text": [
      " 68%|██████▊   | 67802/100000 [2:27:45<1:16:22,  7.03it/s]"
     ]
    },
    {
     "name": "stdout",
     "output_type": "stream",
     "text": [
      "Num steps: 67800 \t Avg Reward: -17.530 \t Obj(Actor): 0.085 \t Loss(Critic): 0.017\n"
     ]
    },
    {
     "name": "stderr",
     "output_type": "stream",
     "text": [
      " 68%|██████▊   | 68002/100000 [2:28:11<1:21:57,  6.51it/s]"
     ]
    },
    {
     "name": "stdout",
     "output_type": "stream",
     "text": [
      "Num steps: 68000 \t Avg Reward: -24.314 \t Obj(Actor): 0.097 \t Loss(Critic): 0.005\n"
     ]
    },
    {
     "name": "stderr",
     "output_type": "stream",
     "text": [
      " 68%|██████▊   | 68202/100000 [2:28:37<1:15:14,  7.04it/s]"
     ]
    },
    {
     "name": "stdout",
     "output_type": "stream",
     "text": [
      "Num steps: 68200 \t Avg Reward: -23.858 \t Obj(Actor): 0.095 \t Loss(Critic): 0.001\n"
     ]
    },
    {
     "name": "stderr",
     "output_type": "stream",
     "text": [
      " 68%|██████▊   | 68402/100000 [2:29:02<1:14:20,  7.08it/s]"
     ]
    },
    {
     "name": "stdout",
     "output_type": "stream",
     "text": [
      "Num steps: 68400 \t Avg Reward: -23.784 \t Obj(Actor): 0.087 \t Loss(Critic): 0.000\n"
     ]
    },
    {
     "name": "stderr",
     "output_type": "stream",
     "text": [
      " 69%|██████▊   | 68602/100000 [2:29:28<1:13:09,  7.15it/s]"
     ]
    },
    {
     "name": "stdout",
     "output_type": "stream",
     "text": [
      "Num steps: 68600 \t Avg Reward: -26.228 \t Obj(Actor): 0.083 \t Loss(Critic): 0.004\n"
     ]
    },
    {
     "name": "stderr",
     "output_type": "stream",
     "text": [
      " 69%|██████▉   | 68802/100000 [2:29:54<1:06:46,  7.79it/s]"
     ]
    },
    {
     "name": "stdout",
     "output_type": "stream",
     "text": [
      "Num steps: 68800 \t Avg Reward: -0.005 \t Obj(Actor): 0.085 \t Loss(Critic): 0.012\n"
     ]
    },
    {
     "name": "stderr",
     "output_type": "stream",
     "text": [
      " 69%|██████▉   | 69002/100000 [2:30:19<1:12:38,  7.11it/s]"
     ]
    },
    {
     "name": "stdout",
     "output_type": "stream",
     "text": [
      "Num steps: 69000 \t Avg Reward: -22.063 \t Obj(Actor): 0.089 \t Loss(Critic): 0.002\n"
     ]
    },
    {
     "name": "stderr",
     "output_type": "stream",
     "text": [
      " 69%|██████▉   | 69202/100000 [2:30:45<1:12:54,  7.04it/s]"
     ]
    },
    {
     "name": "stdout",
     "output_type": "stream",
     "text": [
      "Num steps: 69200 \t Avg Reward: -26.610 \t Obj(Actor): 0.091 \t Loss(Critic): 0.021\n"
     ]
    },
    {
     "name": "stderr",
     "output_type": "stream",
     "text": [
      " 69%|██████▉   | 69402/100000 [2:31:10<1:04:30,  7.90it/s]"
     ]
    },
    {
     "name": "stdout",
     "output_type": "stream",
     "text": [
      "Num steps: 69400 \t Avg Reward: -0.007 \t Obj(Actor): 0.094 \t Loss(Critic): 0.008\n"
     ]
    },
    {
     "name": "stderr",
     "output_type": "stream",
     "text": [
      " 70%|██████▉   | 69602/100000 [2:31:36<1:10:16,  7.21it/s]"
     ]
    },
    {
     "name": "stdout",
     "output_type": "stream",
     "text": [
      "Num steps: 69600 \t Avg Reward: -25.929 \t Obj(Actor): 0.091 \t Loss(Critic): 0.003\n"
     ]
    },
    {
     "name": "stderr",
     "output_type": "stream",
     "text": [
      " 70%|██████▉   | 69802/100000 [2:32:02<1:05:23,  7.70it/s]"
     ]
    },
    {
     "name": "stdout",
     "output_type": "stream",
     "text": [
      "Num steps: 69800 \t Avg Reward: -0.004 \t Obj(Actor): 0.086 \t Loss(Critic): 0.011\n"
     ]
    },
    {
     "name": "stderr",
     "output_type": "stream",
     "text": [
      " 70%|███████   | 70002/100000 [2:32:27<1:11:31,  6.99it/s]"
     ]
    },
    {
     "name": "stdout",
     "output_type": "stream",
     "text": [
      "Num steps: 70000 \t Avg Reward: -23.921 \t Obj(Actor): 0.094 \t Loss(Critic): 0.003\n"
     ]
    },
    {
     "name": "stderr",
     "output_type": "stream",
     "text": [
      " 70%|███████   | 70202/100000 [2:32:53<1:09:57,  7.10it/s]"
     ]
    },
    {
     "name": "stdout",
     "output_type": "stream",
     "text": [
      "Num steps: 70200 \t Avg Reward: -20.826 \t Obj(Actor): 0.093 \t Loss(Critic): 0.001\n"
     ]
    },
    {
     "name": "stderr",
     "output_type": "stream",
     "text": [
      " 70%|███████   | 70402/100000 [2:33:19<1:09:50,  7.06it/s]"
     ]
    },
    {
     "name": "stdout",
     "output_type": "stream",
     "text": [
      "Num steps: 70400 \t Avg Reward: -24.212 \t Obj(Actor): 0.089 \t Loss(Critic): 0.015\n"
     ]
    },
    {
     "name": "stderr",
     "output_type": "stream",
     "text": [
      " 71%|███████   | 70602/100000 [2:33:44<1:08:28,  7.15it/s]"
     ]
    },
    {
     "name": "stdout",
     "output_type": "stream",
     "text": [
      "Num steps: 70600 \t Avg Reward: -21.715 \t Obj(Actor): 0.100 \t Loss(Critic): 0.001\n"
     ]
    },
    {
     "name": "stderr",
     "output_type": "stream",
     "text": [
      " 71%|███████   | 70802/100000 [2:34:10<1:11:49,  6.77it/s]"
     ]
    },
    {
     "name": "stdout",
     "output_type": "stream",
     "text": [
      "Num steps: 70800 \t Avg Reward: -24.162 \t Obj(Actor): 0.105 \t Loss(Critic): 0.000\n"
     ]
    },
    {
     "name": "stderr",
     "output_type": "stream",
     "text": [
      " 71%|███████   | 71002/100000 [2:34:36<1:08:34,  7.05it/s]"
     ]
    },
    {
     "name": "stdout",
     "output_type": "stream",
     "text": [
      "Num steps: 71000 \t Avg Reward: -18.208 \t Obj(Actor): 0.092 \t Loss(Critic): 0.016\n"
     ]
    },
    {
     "name": "stderr",
     "output_type": "stream",
     "text": [
      " 71%|███████   | 71202/100000 [2:35:02<1:09:24,  6.91it/s]"
     ]
    },
    {
     "name": "stdout",
     "output_type": "stream",
     "text": [
      "Num steps: 71200 \t Avg Reward: -25.769 \t Obj(Actor): 0.084 \t Loss(Critic): 0.049\n"
     ]
    },
    {
     "name": "stderr",
     "output_type": "stream",
     "text": [
      " 71%|███████▏  | 71402/100000 [2:35:27<58:54,  8.09it/s]  "
     ]
    },
    {
     "name": "stdout",
     "output_type": "stream",
     "text": [
      "Num steps: 71400 \t Avg Reward: -0.004 \t Obj(Actor): 0.088 \t Loss(Critic): 0.000\n"
     ]
    },
    {
     "name": "stderr",
     "output_type": "stream",
     "text": [
      " 72%|███████▏  | 71602/100000 [2:35:53<1:06:52,  7.08it/s]"
     ]
    },
    {
     "name": "stdout",
     "output_type": "stream",
     "text": [
      "Num steps: 71600 \t Avg Reward: -26.442 \t Obj(Actor): 0.092 \t Loss(Critic): 0.000\n"
     ]
    },
    {
     "name": "stderr",
     "output_type": "stream",
     "text": [
      " 72%|███████▏  | 71802/100000 [2:36:19<1:05:56,  7.13it/s]"
     ]
    },
    {
     "name": "stdout",
     "output_type": "stream",
     "text": [
      "Num steps: 71800 \t Avg Reward: -20.715 \t Obj(Actor): 0.098 \t Loss(Critic): 0.009\n"
     ]
    },
    {
     "name": "stderr",
     "output_type": "stream",
     "text": [
      " 72%|███████▏  | 72002/100000 [2:36:44<1:06:40,  7.00it/s]"
     ]
    },
    {
     "name": "stdout",
     "output_type": "stream",
     "text": [
      "Num steps: 72000 \t Avg Reward: -24.467 \t Obj(Actor): 0.089 \t Loss(Critic): 0.000\n"
     ]
    },
    {
     "name": "stderr",
     "output_type": "stream",
     "text": [
      " 72%|███████▏  | 72202/100000 [2:37:10<1:05:07,  7.11it/s]"
     ]
    },
    {
     "name": "stdout",
     "output_type": "stream",
     "text": [
      "Num steps: 72200 \t Avg Reward: -20.125 \t Obj(Actor): 0.090 \t Loss(Critic): 0.005\n"
     ]
    },
    {
     "name": "stderr",
     "output_type": "stream",
     "text": [
      " 72%|███████▏  | 72402/100000 [2:37:36<1:03:53,  7.20it/s]"
     ]
    },
    {
     "name": "stdout",
     "output_type": "stream",
     "text": [
      "Num steps: 72400 \t Avg Reward: -19.983 \t Obj(Actor): 0.097 \t Loss(Critic): 0.001\n"
     ]
    },
    {
     "name": "stderr",
     "output_type": "stream",
     "text": [
      " 73%|███████▎  | 72602/100000 [2:38:02<1:03:48,  7.16it/s]"
     ]
    },
    {
     "name": "stdout",
     "output_type": "stream",
     "text": [
      "Num steps: 72600 \t Avg Reward: -21.406 \t Obj(Actor): 0.096 \t Loss(Critic): 0.008\n"
     ]
    },
    {
     "name": "stderr",
     "output_type": "stream",
     "text": [
      " 73%|███████▎  | 72802/100000 [2:38:27<1:02:01,  7.31it/s]"
     ]
    },
    {
     "name": "stdout",
     "output_type": "stream",
     "text": [
      "Num steps: 72800 \t Avg Reward: -18.493 \t Obj(Actor): 0.094 \t Loss(Critic): 0.020\n"
     ]
    },
    {
     "name": "stderr",
     "output_type": "stream",
     "text": [
      " 73%|███████▎  | 73002/100000 [2:38:52<1:02:37,  7.19it/s]"
     ]
    },
    {
     "name": "stdout",
     "output_type": "stream",
     "text": [
      "Num steps: 73000 \t Avg Reward: -22.080 \t Obj(Actor): 0.088 \t Loss(Critic): 0.005\n"
     ]
    },
    {
     "name": "stderr",
     "output_type": "stream",
     "text": [
      " 73%|███████▎  | 73202/100000 [2:39:18<1:02:40,  7.13it/s]"
     ]
    },
    {
     "name": "stdout",
     "output_type": "stream",
     "text": [
      "Num steps: 73200 \t Avg Reward: -13.045 \t Obj(Actor): 0.085 \t Loss(Critic): 0.004\n"
     ]
    },
    {
     "name": "stderr",
     "output_type": "stream",
     "text": [
      " 73%|███████▎  | 73238/100000 [2:39:23<1:04:13,  6.95it/s]"
     ]
    },
    {
     "ename": "KeyboardInterrupt",
     "evalue": "",
     "output_type": "error",
     "traceback": [
      "\u001b[0;31m---------------------------------------------------------------------------\u001b[0m",
      "\u001b[0;31mKeyboardInterrupt\u001b[0m                         Traceback (most recent call last)",
      "\u001b[0;32m<ipython-input-2-43281e590d2a>\u001b[0m in \u001b[0;36m<module>\u001b[0;34m\u001b[0m\n\u001b[1;32m     24\u001b[0m     )\n\u001b[1;32m     25\u001b[0m     \u001b[0;31m# Train the policy\u001b[0m\u001b[0;34m\u001b[0m\u001b[0;34m\u001b[0m\u001b[0;34m\u001b[0m\u001b[0m\n\u001b[0;32m---> 26\u001b[0;31m     \u001b[0mddpg_object\u001b[0m\u001b[0;34m.\u001b[0m\u001b[0mtrain\u001b[0m\u001b[0;34m(\u001b[0m\u001b[0mint\u001b[0m\u001b[0;34m(\u001b[0m\u001b[0;36m1e5\u001b[0m\u001b[0;34m)\u001b[0m\u001b[0;34m)\u001b[0m\u001b[0;34m\u001b[0m\u001b[0;34m\u001b[0m\u001b[0m\n\u001b[0m",
      "\u001b[0;32m<ipython-input-1-421316f6f191>\u001b[0m in \u001b[0;36mtrain\u001b[0;34m(self, max_num_steps)\u001b[0m\n\u001b[1;32m    358\u001b[0m                 \u001b[0;31m# Calculating critic loss\u001b[0m\u001b[0;34m\u001b[0m\u001b[0;34m\u001b[0m\u001b[0;34m\u001b[0m\u001b[0m\n\u001b[1;32m    359\u001b[0m                 \u001b[0ma_target\u001b[0m \u001b[0;34m=\u001b[0m \u001b[0mself\u001b[0m\u001b[0;34m.\u001b[0m\u001b[0mactor_target\u001b[0m\u001b[0;34m.\u001b[0m\u001b[0mgetAction\u001b[0m\u001b[0;34m(\u001b[0m\u001b[0ms_prime\u001b[0m\u001b[0;34m,\u001b[0m \u001b[0madd_noise_flag\u001b[0m\u001b[0;34m=\u001b[0m\u001b[0;32mFalse\u001b[0m\u001b[0;34m)\u001b[0m\u001b[0;34m\u001b[0m\u001b[0;34m\u001b[0m\u001b[0m\n\u001b[0;32m--> 360\u001b[0;31m                 \u001b[0my_i\u001b[0m \u001b[0;34m=\u001b[0m \u001b[0mr\u001b[0m \u001b[0;34m+\u001b[0m \u001b[0mgamma\u001b[0m\u001b[0;34m*\u001b[0m\u001b[0mself\u001b[0m\u001b[0;34m.\u001b[0m\u001b[0mcritic_target\u001b[0m\u001b[0;34m(\u001b[0m\u001b[0ms_prime\u001b[0m\u001b[0;34m,\u001b[0m \u001b[0ma_target\u001b[0m\u001b[0;34m)\u001b[0m\u001b[0;34m\u001b[0m\u001b[0;34m\u001b[0m\u001b[0m\n\u001b[0m\u001b[1;32m    361\u001b[0m                 \u001b[0mloss_critic\u001b[0m \u001b[0;34m=\u001b[0m \u001b[0mself\u001b[0m\u001b[0;34m.\u001b[0m\u001b[0mloss_fn\u001b[0m\u001b[0;34m(\u001b[0m\u001b[0mself\u001b[0m\u001b[0;34m.\u001b[0m\u001b[0mcritic\u001b[0m\u001b[0;34m(\u001b[0m\u001b[0ms\u001b[0m\u001b[0;34m,\u001b[0m\u001b[0ma\u001b[0m\u001b[0;34m)\u001b[0m\u001b[0;34m,\u001b[0m \u001b[0my_i\u001b[0m\u001b[0;34m)\u001b[0m \u001b[0;31m#mse loss\u001b[0m\u001b[0;34m\u001b[0m\u001b[0;34m\u001b[0m\u001b[0m\n\u001b[1;32m    362\u001b[0m \u001b[0;34m\u001b[0m\u001b[0m\n",
      "\u001b[0;32m~/anaconda3/envs/ece276c_venv/lib/python3.6/site-packages/torch/nn/modules/module.py\u001b[0m in \u001b[0;36m__call__\u001b[0;34m(self, *input, **kwargs)\u001b[0m\n\u001b[1;32m    539\u001b[0m             \u001b[0mresult\u001b[0m \u001b[0;34m=\u001b[0m \u001b[0mself\u001b[0m\u001b[0;34m.\u001b[0m\u001b[0m_slow_forward\u001b[0m\u001b[0;34m(\u001b[0m\u001b[0;34m*\u001b[0m\u001b[0minput\u001b[0m\u001b[0;34m,\u001b[0m \u001b[0;34m**\u001b[0m\u001b[0mkwargs\u001b[0m\u001b[0;34m)\u001b[0m\u001b[0;34m\u001b[0m\u001b[0;34m\u001b[0m\u001b[0m\n\u001b[1;32m    540\u001b[0m         \u001b[0;32melse\u001b[0m\u001b[0;34m:\u001b[0m\u001b[0;34m\u001b[0m\u001b[0;34m\u001b[0m\u001b[0m\n\u001b[0;32m--> 541\u001b[0;31m             \u001b[0mresult\u001b[0m \u001b[0;34m=\u001b[0m \u001b[0mself\u001b[0m\u001b[0;34m.\u001b[0m\u001b[0mforward\u001b[0m\u001b[0;34m(\u001b[0m\u001b[0;34m*\u001b[0m\u001b[0minput\u001b[0m\u001b[0;34m,\u001b[0m \u001b[0;34m**\u001b[0m\u001b[0mkwargs\u001b[0m\u001b[0;34m)\u001b[0m\u001b[0;34m\u001b[0m\u001b[0;34m\u001b[0m\u001b[0m\n\u001b[0m\u001b[1;32m    542\u001b[0m         \u001b[0;32mfor\u001b[0m \u001b[0mhook\u001b[0m \u001b[0;32min\u001b[0m \u001b[0mself\u001b[0m\u001b[0;34m.\u001b[0m\u001b[0m_forward_hooks\u001b[0m\u001b[0;34m.\u001b[0m\u001b[0mvalues\u001b[0m\u001b[0;34m(\u001b[0m\u001b[0;34m)\u001b[0m\u001b[0;34m:\u001b[0m\u001b[0;34m\u001b[0m\u001b[0;34m\u001b[0m\u001b[0m\n\u001b[1;32m    543\u001b[0m             \u001b[0mhook_result\u001b[0m \u001b[0;34m=\u001b[0m \u001b[0mhook\u001b[0m\u001b[0;34m(\u001b[0m\u001b[0mself\u001b[0m\u001b[0;34m,\u001b[0m \u001b[0minput\u001b[0m\u001b[0;34m,\u001b[0m \u001b[0mresult\u001b[0m\u001b[0;34m)\u001b[0m\u001b[0;34m\u001b[0m\u001b[0;34m\u001b[0m\u001b[0m\n",
      "\u001b[0;32m<ipython-input-1-421316f6f191>\u001b[0m in \u001b[0;36mforward\u001b[0;34m(self, state, action)\u001b[0m\n\u001b[1;32m    189\u001b[0m         \u001b[0mx\u001b[0m \u001b[0;34m=\u001b[0m \u001b[0mtorch\u001b[0m\u001b[0;34m.\u001b[0m\u001b[0mcat\u001b[0m\u001b[0;34m(\u001b[0m\u001b[0;34m(\u001b[0m\u001b[0mstate\u001b[0m\u001b[0;34m,\u001b[0m \u001b[0maction\u001b[0m\u001b[0;34m)\u001b[0m\u001b[0;34m,\u001b[0m \u001b[0mdim\u001b[0m\u001b[0;34m=\u001b[0m\u001b[0;36m0\u001b[0m\u001b[0;34m)\u001b[0m \u001b[0;31m#concatenating to form input\u001b[0m\u001b[0;34m\u001b[0m\u001b[0;34m\u001b[0m\u001b[0m\n\u001b[1;32m    190\u001b[0m         \u001b[0mx\u001b[0m \u001b[0;34m=\u001b[0m \u001b[0mself\u001b[0m\u001b[0;34m.\u001b[0m\u001b[0mrelu\u001b[0m\u001b[0;34m(\u001b[0m\u001b[0mself\u001b[0m\u001b[0;34m.\u001b[0m\u001b[0mfc1\u001b[0m\u001b[0;34m(\u001b[0m\u001b[0mx\u001b[0m\u001b[0;34m)\u001b[0m\u001b[0;34m)\u001b[0m\u001b[0;34m\u001b[0m\u001b[0;34m\u001b[0m\u001b[0m\n\u001b[0;32m--> 191\u001b[0;31m         \u001b[0mx\u001b[0m \u001b[0;34m=\u001b[0m \u001b[0mself\u001b[0m\u001b[0;34m.\u001b[0m\u001b[0mrelu\u001b[0m\u001b[0;34m(\u001b[0m\u001b[0mself\u001b[0m\u001b[0;34m.\u001b[0m\u001b[0mhidden1\u001b[0m\u001b[0;34m(\u001b[0m\u001b[0mx\u001b[0m\u001b[0;34m)\u001b[0m\u001b[0;34m)\u001b[0m\u001b[0;34m\u001b[0m\u001b[0;34m\u001b[0m\u001b[0m\n\u001b[0m\u001b[1;32m    192\u001b[0m         \u001b[0mx\u001b[0m \u001b[0;34m=\u001b[0m \u001b[0mself\u001b[0m\u001b[0;34m.\u001b[0m\u001b[0mfc2\u001b[0m\u001b[0;34m(\u001b[0m\u001b[0mx\u001b[0m\u001b[0;34m)\u001b[0m\u001b[0;34m\u001b[0m\u001b[0;34m\u001b[0m\u001b[0m\n\u001b[1;32m    193\u001b[0m \u001b[0;34m\u001b[0m\u001b[0m\n",
      "\u001b[0;32m~/anaconda3/envs/ece276c_venv/lib/python3.6/site-packages/torch/nn/modules/module.py\u001b[0m in \u001b[0;36m__call__\u001b[0;34m(self, *input, **kwargs)\u001b[0m\n\u001b[1;32m    539\u001b[0m             \u001b[0mresult\u001b[0m \u001b[0;34m=\u001b[0m \u001b[0mself\u001b[0m\u001b[0;34m.\u001b[0m\u001b[0m_slow_forward\u001b[0m\u001b[0;34m(\u001b[0m\u001b[0;34m*\u001b[0m\u001b[0minput\u001b[0m\u001b[0;34m,\u001b[0m \u001b[0;34m**\u001b[0m\u001b[0mkwargs\u001b[0m\u001b[0;34m)\u001b[0m\u001b[0;34m\u001b[0m\u001b[0;34m\u001b[0m\u001b[0m\n\u001b[1;32m    540\u001b[0m         \u001b[0;32melse\u001b[0m\u001b[0;34m:\u001b[0m\u001b[0;34m\u001b[0m\u001b[0;34m\u001b[0m\u001b[0m\n\u001b[0;32m--> 541\u001b[0;31m             \u001b[0mresult\u001b[0m \u001b[0;34m=\u001b[0m \u001b[0mself\u001b[0m\u001b[0;34m.\u001b[0m\u001b[0mforward\u001b[0m\u001b[0;34m(\u001b[0m\u001b[0;34m*\u001b[0m\u001b[0minput\u001b[0m\u001b[0;34m,\u001b[0m \u001b[0;34m**\u001b[0m\u001b[0mkwargs\u001b[0m\u001b[0;34m)\u001b[0m\u001b[0;34m\u001b[0m\u001b[0;34m\u001b[0m\u001b[0m\n\u001b[0m\u001b[1;32m    542\u001b[0m         \u001b[0;32mfor\u001b[0m \u001b[0mhook\u001b[0m \u001b[0;32min\u001b[0m \u001b[0mself\u001b[0m\u001b[0;34m.\u001b[0m\u001b[0m_forward_hooks\u001b[0m\u001b[0;34m.\u001b[0m\u001b[0mvalues\u001b[0m\u001b[0;34m(\u001b[0m\u001b[0;34m)\u001b[0m\u001b[0;34m:\u001b[0m\u001b[0;34m\u001b[0m\u001b[0;34m\u001b[0m\u001b[0m\n\u001b[1;32m    543\u001b[0m             \u001b[0mhook_result\u001b[0m \u001b[0;34m=\u001b[0m \u001b[0mhook\u001b[0m\u001b[0;34m(\u001b[0m\u001b[0mself\u001b[0m\u001b[0;34m,\u001b[0m \u001b[0minput\u001b[0m\u001b[0;34m,\u001b[0m \u001b[0mresult\u001b[0m\u001b[0;34m)\u001b[0m\u001b[0;34m\u001b[0m\u001b[0;34m\u001b[0m\u001b[0m\n",
      "\u001b[0;32m~/anaconda3/envs/ece276c_venv/lib/python3.6/site-packages/torch/nn/modules/linear.py\u001b[0m in \u001b[0;36mforward\u001b[0;34m(self, input)\u001b[0m\n\u001b[1;32m     85\u001b[0m \u001b[0;34m\u001b[0m\u001b[0m\n\u001b[1;32m     86\u001b[0m     \u001b[0;32mdef\u001b[0m \u001b[0mforward\u001b[0m\u001b[0;34m(\u001b[0m\u001b[0mself\u001b[0m\u001b[0;34m,\u001b[0m \u001b[0minput\u001b[0m\u001b[0;34m)\u001b[0m\u001b[0;34m:\u001b[0m\u001b[0;34m\u001b[0m\u001b[0;34m\u001b[0m\u001b[0m\n\u001b[0;32m---> 87\u001b[0;31m         \u001b[0;32mreturn\u001b[0m \u001b[0mF\u001b[0m\u001b[0;34m.\u001b[0m\u001b[0mlinear\u001b[0m\u001b[0;34m(\u001b[0m\u001b[0minput\u001b[0m\u001b[0;34m,\u001b[0m \u001b[0mself\u001b[0m\u001b[0;34m.\u001b[0m\u001b[0mweight\u001b[0m\u001b[0;34m,\u001b[0m \u001b[0mself\u001b[0m\u001b[0;34m.\u001b[0m\u001b[0mbias\u001b[0m\u001b[0;34m)\u001b[0m\u001b[0;34m\u001b[0m\u001b[0;34m\u001b[0m\u001b[0m\n\u001b[0m\u001b[1;32m     88\u001b[0m \u001b[0;34m\u001b[0m\u001b[0m\n\u001b[1;32m     89\u001b[0m     \u001b[0;32mdef\u001b[0m \u001b[0mextra_repr\u001b[0m\u001b[0;34m(\u001b[0m\u001b[0mself\u001b[0m\u001b[0;34m)\u001b[0m\u001b[0;34m:\u001b[0m\u001b[0;34m\u001b[0m\u001b[0;34m\u001b[0m\u001b[0m\n",
      "\u001b[0;32m~/anaconda3/envs/ece276c_venv/lib/python3.6/site-packages/torch/nn/functional.py\u001b[0m in \u001b[0;36mlinear\u001b[0;34m(input, weight, bias)\u001b[0m\n\u001b[1;32m   1370\u001b[0m         \u001b[0mret\u001b[0m \u001b[0;34m=\u001b[0m \u001b[0mtorch\u001b[0m\u001b[0;34m.\u001b[0m\u001b[0maddmm\u001b[0m\u001b[0;34m(\u001b[0m\u001b[0mbias\u001b[0m\u001b[0;34m,\u001b[0m \u001b[0minput\u001b[0m\u001b[0;34m,\u001b[0m \u001b[0mweight\u001b[0m\u001b[0;34m.\u001b[0m\u001b[0mt\u001b[0m\u001b[0;34m(\u001b[0m\u001b[0;34m)\u001b[0m\u001b[0;34m)\u001b[0m\u001b[0;34m\u001b[0m\u001b[0;34m\u001b[0m\u001b[0m\n\u001b[1;32m   1371\u001b[0m     \u001b[0;32melse\u001b[0m\u001b[0;34m:\u001b[0m\u001b[0;34m\u001b[0m\u001b[0;34m\u001b[0m\u001b[0m\n\u001b[0;32m-> 1372\u001b[0;31m         \u001b[0moutput\u001b[0m \u001b[0;34m=\u001b[0m \u001b[0minput\u001b[0m\u001b[0;34m.\u001b[0m\u001b[0mmatmul\u001b[0m\u001b[0;34m(\u001b[0m\u001b[0mweight\u001b[0m\u001b[0;34m.\u001b[0m\u001b[0mt\u001b[0m\u001b[0;34m(\u001b[0m\u001b[0;34m)\u001b[0m\u001b[0;34m)\u001b[0m\u001b[0;34m\u001b[0m\u001b[0;34m\u001b[0m\u001b[0m\n\u001b[0m\u001b[1;32m   1373\u001b[0m         \u001b[0;32mif\u001b[0m \u001b[0mbias\u001b[0m \u001b[0;32mis\u001b[0m \u001b[0;32mnot\u001b[0m \u001b[0;32mNone\u001b[0m\u001b[0;34m:\u001b[0m\u001b[0;34m\u001b[0m\u001b[0;34m\u001b[0m\u001b[0m\n\u001b[1;32m   1374\u001b[0m             \u001b[0moutput\u001b[0m \u001b[0;34m+=\u001b[0m \u001b[0mbias\u001b[0m\u001b[0;34m\u001b[0m\u001b[0;34m\u001b[0m\u001b[0m\n",
      "\u001b[0;31mKeyboardInterrupt\u001b[0m: "
     ]
    }
   ],
   "source": [
    "if __name__ == \"__main__\":\n",
    "    \n",
    "    # Seed values\n",
    "    torch.manual_seed(420)\n",
    "    \n",
    "    # Define the environment\n",
    "    env = gym.make(\"modified_gym_env:ReacherPyBulletEnv-v1\", rand_init=True)\n",
    "    test_env = copy.deepcopy(env)\n",
    "    plot = True\n",
    "    verbose = True\n",
    "    \n",
    "    # Define Deep Deterministic Policy Gradient object\n",
    "    ddpg_object = DDPG(\n",
    "        env,\n",
    "        test_env,\n",
    "        8,\n",
    "        2,\n",
    "        critic_lr=1e-3,\n",
    "        actor_lr=1e-4,\n",
    "        gamma=0.99,\n",
    "        batch_size=100,\n",
    "        ev_n_steps=200, #evaluate every n steps\n",
    "        verbose=verbose\n",
    "    )\n",
    "    # Train the policy\n",
    "    ddpg_object.train(int(1e5))"
   ]
  },
  {
   "cell_type": "code",
   "execution_count": 3,
   "metadata": {},
   "outputs": [
    {
     "data": {
      "image/png": "[encoded data removed]",
      "text/plain": [
       "<Figure size 720x1080 with 3 Axes>"
      ]
     },
     "metadata": {
      "needs_background": "light"
     },
     "output_type": "display_data"
    }
   ],
   "source": [
    "if plot:\n",
    "    fig, axs = plt.subplots(3,1, figsize=(10,15))\n",
    "    axs = axs.flatten()\n",
    "    axs[0].plot(ddpg_object.avg_rewards)\n",
    "    axs[0].set_ylabel('Avg Rewards')\n",
    "    axs[0].set_title(' Avg Rewards vs iterations ')\n",
    "    axs[1].plot(ddpg_object.obj_actor[::ddpg_object.ev_n_steps])\n",
    "    axs[1].set_ylabel('Actor Obj')\n",
    "    axs[1].set_title(' Actor Obj vs iterations ')\n",
    "    axs[2].plot(ddpg_object.loss_critic[::ddpg_object.ev_n_steps])\n",
    "    axs[2].set_ylabel('Critic Loss')\n",
    "    axs[2].set_title(' Critic Loss vs iterations ')"
   ]
  },
  {
   "cell_type": "code",
   "execution_count": 4,
   "metadata": {},
   "outputs": [],
   "source": [
    "ddpg_object.save_actor(3)"
   ]
  },
  {
   "cell_type": "code",
   "execution_count": null,
   "metadata": {},
   "outputs": [],
   "source": []
  }
 ],
 "metadata": {
  "kernelspec": {
   "display_name": "ece276c_venv",
   "language": "python",
   "name": "ece276c_venv"
  },
  "language_info": {
   "codemirror_mode": {
    "name": "ipython",
    "version": 3
   },
   "file_extension": ".py",
   "mimetype": "text/x-python",
   "name": "python",
   "nbconvert_exporter": "python",
   "pygments_lexer": "ipython3",
   "version": "3.6.9"
  }
 },
 "nbformat": 4,
 "nbformat_minor": 2
}
