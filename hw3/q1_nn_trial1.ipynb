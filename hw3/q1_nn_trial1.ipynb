{
 "cells": [
  {
   "cell_type": "code",
   "execution_count": 13,
   "metadata": {},
   "outputs": [],
   "source": [
    "import numpy as np\n",
    "import random\n",
    "\n",
    "class MyNN():\n",
    "    def __init__(self, num_nodes, input_dim):\n",
    "        ''' Initialize a NN parameters'''\n",
    "        assert isinstance(num_nodes, list) and len(num_nodes)>=2\n",
    "        assert isinstance(input_dim, int) and input_dim>0\n",
    "        assert num_nodes[0] == input_dim\n",
    "        \n",
    "        self.num_nodes = num_nodes\n",
    "        self.num_epochs = num_epochs\n",
    "        self.batch_size = batch_size\n",
    "        self.input_dim = input_dim\n",
    "        self.num_layers = len(num_nodes) - 1 #input layer doesn't count as a layer\n",
    "        \n",
    "    def initializeWeightsAndBiases(self, mean = 0, sigma = 1e-3):\n",
    "        ''' Initialize weights and biases of each layer '''\n",
    "        assert isinstance(mean, (int, float))\n",
    "        assert isinstance(sigma, (int, float))\n",
    "        \n",
    "        W = {}; b = {}\n",
    "        for l in range(0, self.num_layers):\n",
    "            dim1, dim2 = self.num_nodes[l], self.num_nodes[l+1]\n",
    "            W[l+1] = np.random.normal(loc=0.0, scale=1e-3, size=(dim2,dim1)) #size(dim2,dim1)\n",
    "            b[l+1] = np.random.normal(loc=0.0, scale=1e-3, size = (dim2)) #size(dim2,)\n",
    "\n",
    "        return W, b\n",
    "    \n",
    "    def train(self, num_epochs, batch_size, X_train, tX_train):        \n",
    "        ''' Train the Neural Network'''\n",
    "        assert isinstance(num_epochs, int) and num_epochs>0\n",
    "        assert isinstance(batch_size, int) and batch_size>0\n",
    "        \n",
    "        # Matrix initialization\n",
    "        accuracy_train = np.zeros((num_epochs))\n",
    "        accuracy_val = np.zeros((num_epochs))\n",
    "        risk_train = np.zeros((num_epochs))\n",
    "        risk_val = np.zeros((num_epochs))\n",
    "        accuracy_train_batch = []\n",
    "        risk_train_batch = []\n",
    "        \n",
    "        # Variables\n",
    "        nTrain = X_train.shape[1]\n",
    "        num_batches = int(np.ceil(nTrain/batch_size)) #upper bound on number of batches\n",
    "        \n",
    "        \n",
    "        for ep in range(0, epoch):\n",
    "            # Shuffling training data at the start of each epoch\n",
    "            samplesIndex = random.sample(range(0,nTrain), nTrain)\n",
    "            X_train = X_train[:,samplesIndex]\n",
    "            tX_train = tX_train[:,samplesIndex]\n",
    "            for b in range(0,num_batches):\n",
    "                # Create batch\n",
    "                try:\n",
    "                    X_train_batch = X_train[:,b*batch_size:(b+1)*batch_size]\n",
    "                    tX_train_batch = tX_train[:,b*batch_size:(b+1)*batch_size]\n",
    "                except IndexError:\n",
    "                    X_train_batch = X_train[:,b*batch_size:nTrain]\n",
    "                    tX_train_batch = tX_train[:,b*batch_size:nTrain]\n",
    "                # Feed Forward\n",
    "                alpha, z = feed_forward(X_train_batch, W, bias, num_nodes, L)\n",
    "                # Weight update (gradient descent with an annealing learning rate)\n",
    "                W, bias, _ = backprop(alpha, z, W, bias, tX_train_batch, neta, num_nodes, L)\n",
    "                # Accuracy and risk per sgd iteration\n",
    "                accuracy_temp, risk_temp = get_accuracy_and_risk(X_train_batch, W, bias, tX_train_batch, num_nodes, L)\n",
    "                accuracy_train_batch.append(accuracy_temp)\n",
    "                risk_train_batch.append(risk_temp)"
   ]
  },
  {
   "cell_type": "code",
   "execution_count": 14,
   "metadata": {},
   "outputs": [],
   "source": [
    "policyNN = MyNN(num_nodes=[4,64,64,2], num_epochs=10, batch_size=10, input_dim=4)\n",
    "W, b = policyNN.initializeWeightsAndBiases()"
   ]
  },
  {
   "cell_type": "code",
   "execution_count": 15,
   "metadata": {},
   "outputs": [],
   "source": []
  },
  {
   "cell_type": "code",
   "execution_count": null,
   "metadata": {},
   "outputs": [],
   "source": []
  }
 ],
 "metadata": {
  "kernelspec": {
   "display_name": "ece276c_venv",
   "language": "python",
   "name": "ece276c_venv"
  },
  "language_info": {
   "codemirror_mode": {
    "name": "ipython",
    "version": 3
   },
   "file_extension": ".py",
   "mimetype": "text/x-python",
   "name": "python",
   "nbconvert_exporter": "python",
   "pygments_lexer": "ipython3",
   "version": "3.6.9"
  }
 },
 "nbformat": 4,
 "nbformat_minor": 2
}
